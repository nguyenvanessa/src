{
 "cells": [
  {
   "cell_type": "code",
   "execution_count": 1,
   "metadata": {},
   "outputs": [],
   "source": [
    "import pandas as pd \n",
    "import numpy as np"
   ]
  },
  {
   "cell_type": "code",
   "execution_count": 4,
   "metadata": {},
   "outputs": [],
   "source": [
    "diffsel_1_view = [-0.8955685496330261, 0.40573838353157043, 0.18247279524803162, 0.068884938955307, 0.5316723585128784, -0.8441271781921387, -0.43952128291130066, -0.7434226870536804, -0.5041126608848572, 0.0, 0.0, -217.33387756347656, 11.15091323852539, 23.67107582092285, 66.3891830444336, 182.87686157226562, 251.7908935546875, -20.0]\n",
    "diffsel_2_view = [0.9499961733818054, 0.24119475483894348, -0.19823572039604187, 0.059517376124858856, 0.48338332772254944, 0.8733677268028259, 0.30648404359817505, -0.8415133357048035, 0.4448692500591278, 0.0, 0.0, -217.33387756347656, 11.15091323852539, 23.67107582092285, 66.3891830444336, 182.87686157226562, 251.7908935546875, -20.0]\n",
    "\n"
   ]
  },
  {
   "cell_type": "code",
   "execution_count": null,
   "metadata": {},
   "outputs": [],
   "source": []
  }
 ],
 "metadata": {
  "kernelspec": {
   "display_name": "Python 3",
   "language": "python",
   "name": "python3"
  },
  "language_info": {
   "codemirror_mode": {
    "name": "ipython",
    "version": 3
   },
   "file_extension": ".py",
   "mimetype": "text/x-python",
   "name": "python",
   "nbconvert_exporter": "python",
   "pygments_lexer": "ipython3",
   "version": "3.7.6"
  }
 },
 "nbformat": 4,
 "nbformat_minor": 4
}
