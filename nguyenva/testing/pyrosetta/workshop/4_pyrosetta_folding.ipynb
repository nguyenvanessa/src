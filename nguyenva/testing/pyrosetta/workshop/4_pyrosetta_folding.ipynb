{
 "cells": [
  {
   "cell_type": "code",
   "execution_count": 1,
   "metadata": {},
   "outputs": [],
   "source": [
    "from pyrosetta import *"
   ]
  },
  {
   "cell_type": "code",
   "execution_count": 2,
   "metadata": {},
   "outputs": [
    {
     "name": "stdout",
     "output_type": "stream",
     "text": [
      "PyRosetta-4 2020 [Rosetta PyRosetta4.MinSizeRel.python35.mac 2020.11+release.ce6f14f37b41d7372ea79cca59fad6b33adc1596 2020-03-12T19:59:10] retrieved from: http://www.pyrosetta.org\n",
      "(C) Copyright Rosetta Commons Member Institutions. Created in JHU by Sergey Lyskov and PyRosetta Team.\n",
      "\u001b[0mcore.init: \u001b[0mChecking for fconfig files in pwd and ./rosetta/flags\n",
      "\u001b[0mcore.init: \u001b[0mRosetta version: PyRosetta4.MinSizeRel.python35.mac r249 2020.11+release.ce6f14f37b4 ce6f14f37b41d7372ea79cca59fad6b33adc1596 http://www.pyrosetta.org 2020-03-12T19:59:10\n",
      "\u001b[0mcore.init: \u001b[0mcommand: PyRosetta -ex1 -ex2aro -database /opt/anaconda3/envs/pyrosetta/lib/python3.5/site-packages/pyrosetta-2020.11+release.ce6f14f37b4-py3.5-macosx-10.6-x86_64.egg/pyrosetta/database\n",
      "\u001b[0mbasic.random.init_random_generator: \u001b[0m'RNG device' seed mode, using '/dev/urandom', seed=1808766166 seed_offset=0 real_seed=1808766166\n",
      "\u001b[0mbasic.random.init_random_generator: \u001b[0mRandomGenerator:init: Normal mode, seed=1808766166 RG_type=mt19937\n"
     ]
    }
   ],
   "source": [
    "pyrosetta.init()"
   ]
  },
  {
   "cell_type": "markdown",
   "metadata": {},
   "source": [
    "# A simple de novo folding algorithm"
   ]
  },
  {
   "cell_type": "code",
   "execution_count": 3,
   "metadata": {},
   "outputs": [
    {
     "name": "stdout",
     "output_type": "stream",
     "text": [
      "\u001b[0mcore.chemical.GlobalResidueTypeSet: \u001b[0mFinished initializing fa_standard residue type set.  Created 980 residue types\n",
      "\u001b[0mcore.chemical.GlobalResidueTypeSet: \u001b[0mTotal time to initialize 1.06325 seconds.\n"
     ]
    }
   ],
   "source": [
    "# Create a new pose of 10 alanines\n",
    "pose = pose_from_sequence('A' * 10)"
   ]
  },
  {
   "cell_type": "code",
   "execution_count": 4,
   "metadata": {},
   "outputs": [],
   "source": [
    "# Echo this structure to PyMOL\n",
    "from pyrosetta import PyMOLMover\n",
    "pmm = PyMOLMover()\n",
    "pmm.apply(pose)\n",
    "\n",
    "# Should be able to see bond lengths and angles\n",
    "\n",
    "\"\"\"\n",
    "I am skipping this section of this workshop\n",
    "because I also skipped the protein geometry \n",
    "section, which is not relevant to getting\n",
    "scores of point mutants\n",
    "\"\"\""
   ]
  },
  {
   "cell_type": "markdown",
   "metadata": {},
   "source": [
    "# Low resolution (centroid) scoring"
   ]
  },
  {
   "cell_type": "code",
   "execution_count": 29,
   "metadata": {},
   "outputs": [
    {
     "name": "stdout",
     "output_type": "stream",
     "text": [
      "\u001b[0mcore.import_pose.import_pose: \u001b[0mFile '6Q21.clean.pdb' automatically determined to be of type PDB\n"
     ]
    }
   ],
   "source": [
    "\"\"\"\n",
    "Rosetta can score a protein conformation using \n",
    "a low-resolution representation. This will make \n",
    "the energy calculation faster.\n",
    "\"\"\"\n",
    "\n",
    "# Load a protein you are familiar with\n",
    "pose = pose_from_pdb(\"6Q21.clean.pdb\")"
   ]
  },
  {
   "cell_type": "code",
   "execution_count": 30,
   "metadata": {},
   "outputs": [
    {
     "name": "stdout",
     "output_type": "stream",
     "text": [
      "Residue 5: LYS (LYS, K):\n",
      "Base: LYS\n",
      " Properties: POLYMER PROTEIN CANONICAL_AA POLAR CHARGED POSITIVE_CHARGE METALBINDING SIDECHAIN_AMINE ALPHA_AA L_AA\n",
      " Variant types:\n",
      " Main-chain atoms:  N    CA   C  \n",
      " Backbone atoms:    N    CA   C    O    H    HA \n",
      " Side-chain atoms:  CB   CG   CD   CE   NZ  1HB  2HB  1HG  2HG  1HD  2HD  1HE  2HE  1HZ  2HZ  3HZ \n",
      "Atom Coordinates:\n",
      "   N  : 20.315, 43.835, 78.015\n",
      "   CA : 20.418, 42.863, 79.118\n",
      "   C  : 19.697, 43.46, 80.329\n",
      "   O  : 20.096, 44.486, 80.897\n",
      "   CB : 21.858, 42.487, 79.491\n",
      "   CG : 22.791, 42.176, 78.316\n",
      "   CD : 22.406, 40.943, 77.485\n",
      "   CE : 23.009, 40.932, 76.075\n",
      "   NZ : 22.748, 42.169, 75.307\n",
      "   H  : 21.0493, 44.5172, 77.8902\n",
      "   HA : 19.9193, 41.9417, 78.815\n",
      "  1HB : 22.3125, 43.3019, 80.0551\n",
      "  2HB : 21.8492, 41.6078, 80.1356\n",
      "  1HG : 22.8124, 43.0262, 77.6332\n",
      "  2HG : 23.8008, 42.0064, 78.6884\n",
      "  1HD : 22.7418, 40.0399, 77.9965\n",
      "  2HD : 21.3219, 40.8985, 77.3807\n",
      "  1HE : 24.088, 40.801, 76.1421\n",
      "  2HE : 22.5982, 40.0953, 75.5101\n",
      "  1HZ : 23.1708, 42.0938, 74.3926\n",
      "  2HZ : 21.751, 42.2999, 75.2069\n",
      "  3HZ : 23.1434, 42.9592, 75.7961\n",
      "Mirrored relative to coordinates in ResidueType: FALSE\n",
      "\n"
     ]
    }
   ],
   "source": [
    "# Calculate full atom energy and note the \n",
    "# coordinates of residue 5\n",
    "print(pose.residue(5))"
   ]
  },
  {
   "cell_type": "code",
   "execution_count": 31,
   "metadata": {},
   "outputs": [
    {
     "name": "stdout",
     "output_type": "stream",
     "text": [
      "Residue 5: LYS (LYS, K):\n",
      "Base: LYS\n",
      " Properties: POLYMER PROTEIN CANONICAL_AA POLAR CHARGED POSITIVE_CHARGE SIDECHAIN_AMINE ALPHA_AA L_AA\n",
      " Variant types:\n",
      " Main-chain atoms:  N    CA   C  \n",
      " Backbone atoms:    N    CA   C    O    H  \n",
      " Side-chain atoms:  CB   CEN\n",
      "Atom Coordinates:\n",
      "   N  : 20.315, 43.835, 78.015\n",
      "   CA : 20.418, 42.863, 79.118\n",
      "   C  : 19.697, 43.46, 80.329\n",
      "   O  : 20.096, 44.486, 80.897\n",
      "   CB : 21.8754, 42.543, 79.454\n",
      "   CEN: 23.4957, 41.1851, 79.3707\n",
      "   H  : 21.0493, 44.5172, 77.8902\n",
      "Mirrored relative to coordinates in ResidueType: FALSE\n",
      "\n"
     ]
    }
   ],
   "source": [
    "# Convert pose to centroid\n",
    "switch = SwitchResidueTypeSetMover(\"centroid\")\n",
    "switch.apply(pose)\n",
    "print(pose.residue(5))"
   ]
  },
  {
   "cell_type": "code",
   "execution_count": 62,
   "metadata": {},
   "outputs": [
    {
     "name": "stdout",
     "output_type": "stream",
     "text": [
      "\u001b[0mcore.scoring.ScoreFunctionFactory: \u001b[0mSCOREFUNCTION: \u001b[32mref2015\u001b[0m\n"
     ]
    }
   ],
   "source": [
    "# Score the new centroid pose using the\n",
    "# standard score function \n",
    "scorefxn = get_score_function()"
   ]
  },
  {
   "cell_type": "code",
   "execution_count": 66,
   "metadata": {},
   "outputs": [
    {
     "ename": "RuntimeError",
     "evalue": "\n\nFile: /Volumes/MacintoshHD3/benchmark/W.fujii.release/rosetta.Fujii.release/_commits_/main/source/src/core/scoring/etable/EtableEnergy.cc:281\n[ ERROR ] UtilityExitException\nERROR: Illegal attempt to score with non-identical atom set between pose and etable\n\tpose   atom_type_set: 'centroid'\n\tetable atom_type_set: 'fa_standard'\n\n\n",
     "output_type": "error",
     "traceback": [
      "\u001b[0;31m---------------------------------------------------------------------------\u001b[0m",
      "\u001b[0;31mRuntimeError\u001b[0m                              Traceback (most recent call last)",
      "\u001b[0;32m<ipython-input-66-f0c21a2278c2>\u001b[0m in \u001b[0;36m<module>\u001b[0;34m()\u001b[0m\n\u001b[0;32m----> 1\u001b[0;31m \u001b[0mprint\u001b[0m\u001b[0;34m(\u001b[0m\u001b[0mscorefxn\u001b[0m\u001b[0;34m(\u001b[0m\u001b[0mpose\u001b[0m\u001b[0;34m)\u001b[0m\u001b[0;34m)\u001b[0m\u001b[0;34m\u001b[0m\u001b[0m\n\u001b[0m",
      "\u001b[0;31mRuntimeError\u001b[0m: \n\nFile: /Volumes/MacintoshHD3/benchmark/W.fujii.release/rosetta.Fujii.release/_commits_/main/source/src/core/scoring/etable/EtableEnergy.cc:281\n[ ERROR ] UtilityExitException\nERROR: Illegal attempt to score with non-identical atom set between pose and etable\n\tpose   atom_type_set: 'centroid'\n\tetable atom_type_set: 'fa_standard'\n\n\n"
     ]
    }
   ],
   "source": [
    "print(scorefxn(pose))\n",
    "## Couldn't get this to work"
   ]
  },
  {
   "cell_type": "code",
   "execution_count": 67,
   "metadata": {
    "collapsed": true,
    "jupyter": {
     "outputs_hidden": true
    }
   },
   "outputs": [
    {
     "name": "stdout",
     "output_type": "stream",
     "text": [
      "Residue 5: LYS (LYS, K):\n",
      "Base: LYS\n",
      " Properties: POLYMER PROTEIN CANONICAL_AA POLAR CHARGED POSITIVE_CHARGE METALBINDING SIDECHAIN_AMINE ALPHA_AA L_AA\n",
      " Variant types:\n",
      " Main-chain atoms:  N    CA   C  \n",
      " Backbone atoms:    N    CA   C    O    H    HA \n",
      " Side-chain atoms:  CB   CG   CD   CE   NZ  1HB  2HB  1HG  2HG  1HD  2HD  1HE  2HE  1HZ  2HZ  3HZ \n",
      "Atom Coordinates:\n",
      "   N  : 20.315, 43.835, 78.015\n",
      "   CA : 20.418, 42.863, 79.118\n",
      "   C  : 19.697, 43.46, 80.329\n",
      "   O  : 20.096, 44.486, 80.897\n",
      "   CB : 21.8754, 42.5429, 79.4539\n",
      "   CG : 22.8944, 43.244, 78.5655\n",
      "   CD : 22.2113, 44.1202, 77.5262\n",
      "   CE : 20.6967, 44.0574, 77.6573\n",
      "   NZ : 20.2706, 43.1587, 78.7642\n",
      "   H  : 21.0493, 44.5172, 77.8902\n",
      "   HA : 19.9306, 41.9373, 78.8101\n",
      "  1HB : 22.0814, 42.8255, 80.4867\n",
      "  2HB : 22.0409, 41.4686, 79.3693\n",
      "  1HG : 23.5468, 43.8654, 79.1801\n",
      "  2HG : 23.5056, 42.4999, 78.0558\n",
      "  1HD : 22.5361, 45.154, 77.6512\n",
      "  2HD : 22.4937, 43.7874, 76.5274\n",
      "  1HE : 20.3065, 45.0564, 77.8461\n",
      "  2HE : 20.2655, 43.6934, 76.7248\n",
      "  1HZ : 19.2619, 43.1443, 78.8176\n",
      "  2HZ : 20.6116, 42.2236, 78.5898\n",
      "  3HZ : 20.6485, 43.497, 79.6375\n",
      "Mirrored relative to coordinates in ResidueType: FALSE\n",
      "\n"
     ]
    }
   ],
   "source": [
    "#\n",
    "switch2 = SwitchResidueTypeSetMover(\"fa_standard\")\n",
    "switch2.apply(pose)\n",
    "print(pose.residue(5))"
   ]
  },
  {
   "cell_type": "markdown",
   "metadata": {},
   "source": [
    "# Skipping fragment insertion"
   ]
  },
  {
   "cell_type": "code",
   "execution_count": null,
   "metadata": {},
   "outputs": [],
   "source": []
  }
 ],
 "metadata": {
  "kernelspec": {
   "display_name": "Python (pyrosetta)",
   "language": "python",
   "name": "pyrosetta"
  },
  "language_info": {
   "codemirror_mode": {
    "name": "ipython",
    "version": 3
   },
   "file_extension": ".py",
   "mimetype": "text/x-python",
   "name": "python",
   "nbconvert_exporter": "python",
   "pygments_lexer": "ipython3",
   "version": "3.5.6"
  }
 },
 "nbformat": 4,
 "nbformat_minor": 4
}
