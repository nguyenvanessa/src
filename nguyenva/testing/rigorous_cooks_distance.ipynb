{
 "cells": [
  {
   "cell_type": "code",
   "execution_count": 6,
   "metadata": {},
   "outputs": [],
   "source": [
    "import pandas as pd\n",
    "import numpy as np\n",
    "import statsmodels.api as sm\n",
    "import sys\n",
    "sys.path.insert(1, '../../utils/')\n",
    "import src_utils"
   ]
  },
  {
   "cell_type": "code",
   "execution_count": 32,
   "metadata": {},
   "outputs": [],
   "source": [
    "point_muts = pd.read_csv('../../utils/point_muts.csv', index_col=0, header=[0,1])\n",
    "resids = pd.read_csv('../../utils/residuals.csv', index_col=0)['raw_resids'].values\n",
    "rad_scores = point_muts.loc[:, ('Radicicol', 'score')].values\n",
    "dmso_scores = point_muts.loc[:, ('Zero', 'score')].values\n",
    "resid_heatmap = pd.read_csv('../heatmaps/raw_resid_heatmap.csv', index_col=0).values"
   ]
  },
  {
   "cell_type": "code",
   "execution_count": 5,
   "metadata": {},
   "outputs": [],
   "source": [
    "#Fit linear model to any dataset\n",
    "model = sm.OLS(rad_scores, dmso_scores)\n",
    "results = model.fit()\n",
    "\n",
    "#create instance of influence\n",
    "influence = results.get_influence()\n",
    "\n",
    "#leverage (hat values)\n",
    "leverage = influence.hat_matrix_diag\n",
    "\n",
    "#Cook's D values (and p-values) as tuple of arrays\n",
    "cooks_d = influence.cooks_distance\n",
    "\n",
    "#standardized residuals\n",
    "standardized_residuals = influence.resid_studentized_internal\n",
    "\n",
    "#studentized residuals\n",
    "studentized_residuals = influence.resid_studentized_external"
   ]
  },
  {
   "cell_type": "code",
   "execution_count": 14,
   "metadata": {},
   "outputs": [],
   "source": [
    "variant_index = src_utils.create_variant_index(point_muts)\n",
    "cooks_d_map = src_utils.create_heatmap_arr(cooks_d[0], variant_index)"
   ]
  },
  {
   "cell_type": "code",
   "execution_count": 27,
   "metadata": {},
   "outputs": [
    {
     "name": "stderr",
     "output_type": "stream",
     "text": [
      "/opt/anaconda3/lib/python3.7/site-packages/ipykernel_launcher.py:1: RuntimeWarning: invalid value encountered in greater\n",
      "  \"\"\"Entry point for launching an IPython kernel.\n",
      "/opt/anaconda3/lib/python3.7/site-packages/ipykernel_launcher.py:3: RuntimeWarning: invalid value encountered in greater\n",
      "  This is separate from the ipykernel package so we can avoid doing imports until\n"
     ]
    }
   ],
   "source": [
    "idx = cooks_d_map > (4. / 3501.)\n",
    "np.savetxt('../../utils/analysis_utils/cooks_d_client_idx.csv', idx)\n",
    "idx2 = cooks_d_map > (1. / 3501.)\n",
    "np.savetxt('../../utils/analysis_utils/cooks_d_client_1_idx.csv', idx2)\n"
   ]
  },
  {
   "cell_type": "code",
   "execution_count": 33,
   "metadata": {},
   "outputs": [
    {
     "data": {
      "text/plain": [
       "array([[        nan,         nan,         nan, ..., -0.01223384,\n",
       "                nan,         nan],\n",
       "       [        nan,  0.14050133,         nan, ...,  0.1244217 ,\n",
       "        -0.49186796,         nan],\n",
       "       [        nan,         nan,         nan, ...,         nan,\n",
       "                nan,         nan],\n",
       "       ...,\n",
       "       [        nan,         nan,         nan, ...,         nan,\n",
       "                nan,         nan],\n",
       "       [        nan, -0.16682683,  0.09613498, ...,  0.01383697,\n",
       "        -0.14881201,  0.14225256],\n",
       "       [        nan,         nan, -0.30839186, ..., -0.27160963,\n",
       "        -0.0149728 ,         nan]])"
      ]
     },
     "execution_count": 33,
     "metadata": {},
     "output_type": "execute_result"
    }
   ],
   "source": [
    "resid_heatmap"
   ]
  },
  {
   "cell_type": "code",
   "execution_count": 39,
   "metadata": {},
   "outputs": [
    {
     "data": {
      "text/plain": [
       "Text(0, 0.5, 'Radicicol activity score')"
      ]
     },
     "execution_count": 39,
     "metadata": {},
     "output_type": "execute_result"
    },
    {
     "data": {
      "image/png": "[encoded data removed]",
      "text/plain": [
       "<Figure size 432x288 with 1 Axes>"
      ]
     },
     "metadata": {
      "needs_background": "light"
     },
     "output_type": "display_data"
    }
   ],
   "source": [
    "positive = resids > 0\n",
    "negative = resids < 0\n",
    "\n",
    "idx = cooks_d[0] > (4. / 3501.)\n",
    "\n",
    "ihb_clients = idx & positive\n",
    "dep_clients = idx & negative\n",
    "plt.scatter(dmso_scores, rad_scores, color='k')\n",
    "plt.scatter(dmso_scores[ihb_clients], rad_scores[ihb_clients], color='r')\n",
    "plt.scatter(dmso_scores[dep_clients], rad_scores[dep_clients], color='b')\n",
    "plt.xlabel('DMSO activity score')\n",
    "plt.ylabel('Radicicol activity score')"
   ]
  },
  {
   "cell_type": "code",
   "execution_count": 35,
   "metadata": {},
   "outputs": [
    {
     "data": {
      "text/plain": [
       "numpy.ndarray"
      ]
     },
     "execution_count": 35,
     "metadata": {},
     "output_type": "execute_result"
    }
   ],
   "source": [
    "type(idx)"
   ]
  },
  {
   "cell_type": "code",
   "execution_count": null,
   "metadata": {},
   "outputs": [],
   "source": []
  }
 ],
 "metadata": {
  "kernelspec": {
   "display_name": "Python 3",
   "language": "python",
   "name": "python3"
  },
  "language_info": {
   "codemirror_mode": {
    "name": "ipython",
    "version": 3
   },
   "file_extension": ".py",
   "mimetype": "text/x-python",
   "name": "python",
   "nbconvert_exporter": "python",
   "pygments_lexer": "ipython3",
   "version": "3.7.6"
  }
 },
 "nbformat": 4,
 "nbformat_minor": 4
}
