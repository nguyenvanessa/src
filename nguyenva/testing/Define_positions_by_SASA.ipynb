{
 "cells": [
  {
   "cell_type": "code",
   "execution_count": 1,
   "metadata": {},
   "outputs": [],
   "source": [
    "import numpy as np\n",
    "import pandas as pd\n",
    "import matplotlib.pyplot as plt"
   ]
  },
  {
   "cell_type": "markdown",
   "metadata": {},
   "source": [
    "# 1. Define sequences (from fastas) and load SASA files"
   ]
  },
  {
   "cell_type": "code",
   "execution_count": 2,
   "metadata": {},
   "outputs": [],
   "source": [
    "seq = 'MVTTFVALYDYESRTETDLSFKKGERLQIVNNTEGDWWLAHSLSTGQTGYIPSNYVAPSDSIQAEEWYFGKITRRESERLLLNAENPRGTFLVRESETTKGAYCLSVSDFDNAKGLNVKHYKIRKLDSGGFYITSRTQFNSLQQLVAYYSKHADGLCHRLTTVCPTSKPQTQGLAKDAWEIPRESLRLEVKLGQGCFGEVWMGTWNGTTRVAIKTLKPGTMSPEAFLQEAQVMKKLRHEKLVQLYAVVSEEPIYIVTEYMSKGSLLDFLKGETGKYLRLPQLVDMAAQIASGMAYVERMNYVHRDLRAANILVGENLVCKVADFGLARLIEDNEYTARQGAKFPIKWTAPEAALYGRFTIKSDVWSFGILLTELTTKGRVPYPGMVNREVLDQVERGYRMPCPPECPESLHDLMCQCWRKEPEERPTFEYLQAFLEDYFTSTEPQYQPGENL'\n",
    "\n",
    "closed_sasa = np.loadtxt('../../PyMOL/sasa/2src_human_numbering_SASA.txt')\n",
    "open_sasa = np.loadtxt('../../PyMOL/sasa/1y57_human_numbering_SASA.txt')\n"
   ]
  },
  {
   "cell_type": "code",
   "execution_count": 11,
   "metadata": {},
   "outputs": [],
   "source": [
    "# Transform into single DF\n",
    "open_df = pd.DataFrame(open_sasa[:, 1], index=open_sasa[:, 0], columns=['open'])\n",
    "closed_df = pd.DataFrame(closed_sasa[:, 1], index=closed_sasa[:, 0], columns=['closed'])\n",
    "open_df['closed'] = closed_df['closed']\n",
    "\n",
    "sasa_df = open_df.copy()\n",
    "\n",
    "# Clean up DataFrame\n",
    "\n",
    "# Drop nans\n",
    "sasa_df.dropna(axis=0, inplace=True)\n",
    "\n",
    "# Rename index\n",
    "int_idx = [int(pos) for pos in sasa_df.index.tolist()]\n",
    "mapper = dict(zip(sasa_df.index.tolist(), int_idx))\n",
    "sasa_df.rename(mapper, axis='index', inplace=True)\n",
    "\n",
    "# Get difference\n",
    "diff_sasa = sasa_df['open'] - sasa_df['closed']"
   ]
  },
  {
   "cell_type": "code",
   "execution_count": 38,
   "metadata": {},
   "outputs": [],
   "source": [
    "sasa_df['diff_sasa'] = diff_sasa.values"
   ]
  },
  {
   "cell_type": "code",
   "execution_count": 39,
   "metadata": {},
   "outputs": [
    {
     "data": {
      "text/html": [
       "<div>\n",
       "<style scoped>\n",
       "    .dataframe tbody tr th:only-of-type {\n",
       "        vertical-align: middle;\n",
       "    }\n",
       "\n",
       "    .dataframe tbody tr th {\n",
       "        vertical-align: top;\n",
       "    }\n",
       "\n",
       "    .dataframe thead th {\n",
       "        text-align: right;\n",
       "    }\n",
       "</style>\n",
       "<table border=\"1\" class=\"dataframe\">\n",
       "  <thead>\n",
       "    <tr style=\"text-align: right;\">\n",
       "      <th></th>\n",
       "      <th>open</th>\n",
       "      <th>closed</th>\n",
       "      <th>diff_sasa</th>\n",
       "    </tr>\n",
       "  </thead>\n",
       "  <tbody>\n",
       "    <tr>\n",
       "      <th>87</th>\n",
       "      <td>10.419711</td>\n",
       "      <td>155.065506</td>\n",
       "      <td>-144.645795</td>\n",
       "    </tr>\n",
       "    <tr>\n",
       "      <th>88</th>\n",
       "      <td>4.026346</td>\n",
       "      <td>23.810478</td>\n",
       "      <td>-19.784132</td>\n",
       "    </tr>\n",
       "    <tr>\n",
       "      <th>89</th>\n",
       "      <td>45.161861</td>\n",
       "      <td>41.332947</td>\n",
       "      <td>3.828915</td>\n",
       "    </tr>\n",
       "    <tr>\n",
       "      <th>90</th>\n",
       "      <td>53.048244</td>\n",
       "      <td>25.043711</td>\n",
       "      <td>28.004534</td>\n",
       "    </tr>\n",
       "    <tr>\n",
       "      <th>91</th>\n",
       "      <td>61.447132</td>\n",
       "      <td>4.974362</td>\n",
       "      <td>56.472770</td>\n",
       "    </tr>\n",
       "    <tr>\n",
       "      <th>...</th>\n",
       "      <td>...</td>\n",
       "      <td>...</td>\n",
       "      <td>...</td>\n",
       "    </tr>\n",
       "    <tr>\n",
       "      <th>529</th>\n",
       "      <td>78.006577</td>\n",
       "      <td>164.137619</td>\n",
       "      <td>-86.131042</td>\n",
       "    </tr>\n",
       "    <tr>\n",
       "      <th>530</th>\n",
       "      <td>36.725750</td>\n",
       "      <td>400.903290</td>\n",
       "      <td>-364.177540</td>\n",
       "    </tr>\n",
       "    <tr>\n",
       "      <th>531</th>\n",
       "      <td>150.837097</td>\n",
       "      <td>80.156174</td>\n",
       "      <td>70.680923</td>\n",
       "    </tr>\n",
       "    <tr>\n",
       "      <th>532</th>\n",
       "      <td>78.025726</td>\n",
       "      <td>120.916122</td>\n",
       "      <td>-42.890396</td>\n",
       "    </tr>\n",
       "    <tr>\n",
       "      <th>533</th>\n",
       "      <td>5.891759</td>\n",
       "      <td>5.998272</td>\n",
       "      <td>-0.106513</td>\n",
       "    </tr>\n",
       "  </tbody>\n",
       "</table>\n",
       "<p>447 rows × 3 columns</p>\n",
       "</div>"
      ],
      "text/plain": [
       "           open      closed   diff_sasa\n",
       "87    10.419711  155.065506 -144.645795\n",
       "88     4.026346   23.810478  -19.784132\n",
       "89    45.161861   41.332947    3.828915\n",
       "90    53.048244   25.043711   28.004534\n",
       "91    61.447132    4.974362   56.472770\n",
       "..          ...         ...         ...\n",
       "529   78.006577  164.137619  -86.131042\n",
       "530   36.725750  400.903290 -364.177540\n",
       "531  150.837097   80.156174   70.680923\n",
       "532   78.025726  120.916122  -42.890396\n",
       "533    5.891759    5.998272   -0.106513\n",
       "\n",
       "[447 rows x 3 columns]"
      ]
     },
     "execution_count": 39,
     "metadata": {},
     "output_type": "execute_result"
    }
   ],
   "source": [
    "sasa_df"
   ]
  },
  {
   "cell_type": "code",
   "execution_count": 40,
   "metadata": {},
   "outputs": [],
   "source": [
    "sasa_df.to_csv('../../utils/analysis_utils/sasa.csv')"
   ]
  },
  {
   "cell_type": "code",
   "execution_count": 26,
   "metadata": {},
   "outputs": [],
   "source": [
    "def moving_average(a, n=15) :\n",
    "    ret = np.nancumsum(a, dtype=float)\n",
    "    ret[n:] = ret[n:] - ret[:-n]\n",
    "    return ret[n - 1:] / n\n",
    "\n",
    "# Get positions and values in lists\n",
    "diff_sasa_pos = diff_sasa.index.tolist()\n",
    "diff_sasa_vals = diff_sasa.tolist()\n",
    "\n",
    "# Window the SASA values\n",
    "window_sasa = moving_average(diff_sasa_vals)"
   ]
  },
  {
   "cell_type": "code",
   "execution_count": 27,
   "metadata": {},
   "outputs": [
    {
     "data": {
      "image/png": "[encoded data removed]",
      "text/plain": [
       "<Figure size 432x288 with 1 Axes>"
      ]
     },
     "metadata": {
      "needs_background": "light"
     },
     "output_type": "display_data"
    }
   ],
   "source": [
    "plt.plot(np.linspace(270, 519, num=len(window_sasa)), window_sasa)\n",
    "plt.xlabel('Position')\n",
    "plt.ylabel('SASA (square angstrom)')\n",
    "plt.title('openSASA-closedSASA (window=15)')\n",
    "plt.show()"
   ]
  },
  {
   "cell_type": "code",
   "execution_count": 29,
   "metadata": {},
   "outputs": [
    {
     "data": {
      "text/plain": [
       "319"
      ]
     },
     "execution_count": 29,
     "metadata": {},
     "output_type": "execute_result"
    }
   ],
   "source": [
    "np.argmax(window_sasa)"
   ]
  },
  {
   "cell_type": "code",
   "execution_count": 30,
   "metadata": {},
   "outputs": [
    {
     "data": {
      "text/plain": [
       "453.86805555555554"
      ]
     },
     "execution_count": 30,
     "metadata": {},
     "output_type": "execute_result"
    }
   ],
   "source": [
    "np.linspace(270, 519, num=len(window_sasa))[319]"
   ]
  },
  {
   "cell_type": "code",
   "execution_count": 31,
   "metadata": {},
   "outputs": [],
   "source": [
    "window_sasa[319] = 0.0"
   ]
  },
  {
   "cell_type": "code",
   "execution_count": 32,
   "metadata": {},
   "outputs": [
    {
     "data": {
      "text/plain": [
       "65"
      ]
     },
     "execution_count": 32,
     "metadata": {},
     "output_type": "execute_result"
    }
   ],
   "source": [
    "np.argmax(window_sasa)"
   ]
  },
  {
   "cell_type": "code",
   "execution_count": 33,
   "metadata": {},
   "outputs": [
    {
     "data": {
      "text/plain": [
       "307.46527777777777"
      ]
     },
     "execution_count": 33,
     "metadata": {},
     "output_type": "execute_result"
    }
   ],
   "source": [
    "np.linspace(270, 519, num=len(window_sasa))[65]"
   ]
  },
  {
   "cell_type": "code",
   "execution_count": 34,
   "metadata": {},
   "outputs": [
    {
     "data": {
      "text/plain": [
       "267"
      ]
     },
     "execution_count": 34,
     "metadata": {},
     "output_type": "execute_result"
    }
   ],
   "source": [
    "np.argmin(window_sasa)"
   ]
  },
  {
   "cell_type": "code",
   "execution_count": 35,
   "metadata": {},
   "outputs": [
    {
     "data": {
      "text/plain": [
       "423.8958333333333"
      ]
     },
     "execution_count": 35,
     "metadata": {},
     "output_type": "execute_result"
    }
   ],
   "source": [
    "np.linspace(270, 519, num=len(window_sasa))[267]"
   ]
  },
  {
   "cell_type": "code",
   "execution_count": null,
   "metadata": {},
   "outputs": [],
   "source": []
  }
 ],
 "metadata": {
  "kernelspec": {
   "display_name": "Python 3",
   "language": "python",
   "name": "python3"
  },
  "language_info": {
   "codemirror_mode": {
    "name": "ipython",
    "version": 3
   },
   "file_extension": ".py",
   "mimetype": "text/x-python",
   "name": "python",
   "nbconvert_exporter": "python",
   "pygments_lexer": "ipython3",
   "version": "3.7.6"
  }
 },
 "nbformat": 4,
 "nbformat_minor": 4
}
