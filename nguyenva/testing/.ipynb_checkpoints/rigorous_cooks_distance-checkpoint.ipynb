{
 "cells": [
  {
   "cell_type": "code",
   "execution_count": 6,
   "metadata": {},
   "outputs": [],
   "source": [
    "import pandas as pd\n",
    "import numpy as np\n",
    "import statsmodels.api as sm\n",
    "import sys\n",
    "sys.path.insert(1, '../../utils/')\n",
    "import src_utils"
   ]
  },
  {
   "cell_type": "code",
   "execution_count": 4,
   "metadata": {},
   "outputs": [],
   "source": [
    "point_muts = pd.read_csv('../../utils/point_muts.csv', index_col=0, header=[0,1])\n",
    "resids = pd.read_csv('../../utils/residuals.csv', index_col=0)['raw_resids'].values\n",
    "rad_scores = point_muts.loc[:, ('Radicicol', 'score')].values\n",
    "dmso_scores = point_muts.loc[:, ('Zero', 'score')].values"
   ]
  },
  {
   "cell_type": "code",
   "execution_count": 5,
   "metadata": {},
   "outputs": [],
   "source": [
    "#Fit linear model to any dataset\n",
    "model = sm.OLS(rad_scores, dmso_scores)\n",
    "results = model.fit()\n",
    "\n",
    "#create instance of influence\n",
    "influence = results.get_influence()\n",
    "\n",
    "#leverage (hat values)\n",
    "leverage = influence.hat_matrix_diag\n",
    "\n",
    "#Cook's D values (and p-values) as tuple of arrays\n",
    "cooks_d = influence.cooks_distance\n",
    "\n",
    "#standardized residuals\n",
    "standardized_residuals = influence.resid_studentized_internal\n",
    "\n",
    "#studentized residuals\n",
    "studentized_residuals = influence.resid_studentized_external"
   ]
  },
  {
   "cell_type": "code",
   "execution_count": 14,
   "metadata": {},
   "outputs": [],
   "source": [
    "variant_index = src_utils.create_variant_index(point_muts)\n",
    "cooks_d_map = src_utils.create_heatmap_arr(cooks_d[0], variant_index)"
   ]
  },
  {
   "cell_type": "code",
   "execution_count": 27,
   "metadata": {},
   "outputs": [
    {
     "name": "stderr",
     "output_type": "stream",
     "text": [
      "/opt/anaconda3/lib/python3.7/site-packages/ipykernel_launcher.py:1: RuntimeWarning: invalid value encountered in greater\n",
      "  \"\"\"Entry point for launching an IPython kernel.\n",
      "/opt/anaconda3/lib/python3.7/site-packages/ipykernel_launcher.py:3: RuntimeWarning: invalid value encountered in greater\n",
      "  This is separate from the ipykernel package so we can avoid doing imports until\n"
     ]
    }
   ],
   "source": [
    "idx = cooks_d_map > (4. / 3501.)\n",
    "np.savetxt('../../utils/analysis_utils/cooks_d_client_idx.csv', idx)\n",
    "idx2 = cooks_d_map > (1. / 3501.)\n",
    "np.savetxt('../../utils/analysis_utils/cooks_d_client_1_idx.csv', idx2)\n"
   ]
  },
  {
   "cell_type": "code",
   "execution_count": null,
   "metadata": {},
   "outputs": [],
   "source": []
  }
 ],
 "metadata": {
  "kernelspec": {
   "display_name": "Python 3",
   "language": "python",
   "name": "python3"
  },
  "language_info": {
   "codemirror_mode": {
    "name": "ipython",
    "version": 3
   },
   "file_extension": ".py",
   "mimetype": "text/x-python",
   "name": "python",
   "nbconvert_exporter": "python",
   "pygments_lexer": "ipython3",
   "version": "3.7.6"
  }
 },
 "nbformat": 4,
 "nbformat_minor": 4
}
