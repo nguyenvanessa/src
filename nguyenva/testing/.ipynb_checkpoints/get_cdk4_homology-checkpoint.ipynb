{
 "cells": [
  {
   "cell_type": "code",
   "execution_count": 1,
   "metadata": {},
   "outputs": [],
   "source": [
    "import numpy as np"
   ]
  },
  {
   "cell_type": "code",
   "execution_count": 2,
   "metadata": {},
   "outputs": [],
   "source": [
    "cdk4_align = (\n",
    "    'MATSRYEPVAEIGVGAYGTVYKARDPHSGHFVALKS' + \n",
    "    'VRVPNGGGGGGGLPISTVREVALLRRLEAFEHPNVVRLMDVCATSRTDREIKVTLVFEH-' + \n",
    "    'VDQDLRTYLDKAPPPGLPAETIKDLMRQFLRGLDFLHANCIVHRDLKPENILVTSGGTVK' + \n",
    "    'LADFGLARIYSYQMA--LTPVVVTLWYRAPEVLLQSTYATPVDMWSVGCIFAEMFRRKPL' + \n",
    "    'F-CGNSEADQLGKIFDLIGLPPEDDWPRDVSLPRGAFPPRGPRPVQSVVPEMEESGAQLL' + \n",
    "    'LEMLTFNPHKR--ISAFRALQHSYLHKDEGNPE-----'\n",
    ")\n",
    "\n",
    "src_align = (\n",
    "    'IPRESLRLEVKLGQGCFGEVWMGTWNGTT-RVAIKT' + \n",
    "    'LK------PGTMSPEAFLQEAQVM---KKLRHEKLVQLYAVVSEE----PI--YIVTEYM' + \n",
    "    'SKGSLLDFLKGETGKYLRLPQLVDMAAQIASGMAYVERMNYVHRDLRAANILVGENLVCK' + \n",
    "    'VADFGLARLIEDNEYTARQGAKFPIKWTAPEAALYGRFTIKSDVWSFGILLTELTTKGRV' +\n",
    "    'PYPGMVNREVLDQVERGYRM---------------PCPPECPESLHDL-----------M' + \n",
    "    'CQCWRKEPEERPTFEYLQAFLEDYFTSTEPQYQPGENL'\n",
    ")\n",
    "\n",
    "src_starting_pos = 240 + len('CHRLTTVCPTSKPQTQGLAKDAWE')"
   ]
  },
  {
   "cell_type": "code",
   "execution_count": 3,
   "metadata": {},
   "outputs": [],
   "source": [
    "cdk4_hsp90_interface=[\n",
    "87, 88, 89, 90, 91,\n",
    "92, 93, 94, 95, 96,\n",
    "97, 98, 102, 103, 106,\n",
    "122, 126, 133, 149, 150,\n",
    "151, 153, 155, 163, 166,\n",
    "168, 169, 285, 287, 288\n",
    "]\n",
    "\n",
    "cdk4_cdc37_interface=[\n",
    "123, 126, 127, 130, 131,\n",
    "134, 135, 136, 137, 147,\n",
    "153, 154, 155, 156, 157,\n",
    "158, 159, 162, 163, 164\n",
    "]"
   ]
  },
  {
   "cell_type": "code",
   "execution_count": 4,
   "metadata": {},
   "outputs": [],
   "source": [
    "cdk4_align_pos = []\n",
    "pos = 0\n",
    "for i in cdk4_align:\n",
    "    if i != '-':\n",
    "        pos += 1\n",
    "        cdk4_align_pos.append(pos)\n",
    "    else:\n",
    "        cdk4_align_pos.append(np.nan)\n",
    "    \n",
    "    \n",
    "src_align_pos = []\n",
    "pos = src_starting_pos\n",
    "for i in src_align:\n",
    "    if i != '-':\n",
    "        pos += 1\n",
    "        src_align_pos.append(pos)\n",
    "    else:\n",
    "        src_align_pos.append(np.nan)\n",
    "    \n",
    "cdk4_align_pos = np.array(cdk4_align_pos)\n",
    "src_align_pos = np.array(src_align_pos)"
   ]
  },
  {
   "cell_type": "code",
   "execution_count": 5,
   "metadata": {},
   "outputs": [],
   "source": [
    "src_hsp90_homology_interface = []\n",
    "for pos in cdk4_hsp90_interface:\n",
    "    idx = np.argwhere(cdk4_align_pos == pos)[0][0]\n",
    "    src_pos = src_align_pos[idx]\n",
    "    if ~np.isnan(src_pos):\n",
    "        src_hsp90_homology_interface.append(src_pos)\n",
    "    \n",
    "src_cdc37_homology_interface = []\n",
    "for pos in cdk4_cdc37_interface:\n",
    "    idx = np.argwhere(cdk4_align_pos == pos)[0][0]\n",
    "    src_pos = src_align_pos[idx]\n",
    "    if ~np.isnan(src_pos):\n",
    "        src_cdc37_homology_interface.append(src_pos)\n",
    "    \n",
    "src_hsp90_homology_interface = np.array(src_hsp90_homology_interface)\n",
    "src_cdc37_homology_interface = np.array(src_cdc37_homology_interface)"
   ]
  },
  {
   "cell_type": "code",
   "execution_count": 6,
   "metadata": {},
   "outputs": [
    {
     "data": {
      "text/plain": [
       "array([337., 338., 339., 340., 341., 342., 343., 345., 346., 347., 351.,\n",
       "       352., 355., 371., 375., 382., 398., 399., 400., 402., 404., 412.,\n",
       "       415., 417., 418., 513., 515., 516.])"
      ]
     },
     "execution_count": 6,
     "metadata": {},
     "output_type": "execute_result"
    }
   ],
   "source": [
    "src_hsp90_homology_interface"
   ]
  },
  {
   "cell_type": "code",
   "execution_count": 7,
   "metadata": {},
   "outputs": [
    {
     "data": {
      "text/plain": [
       "array([372., 375., 376., 379., 380., 383., 384., 385., 386., 396., 402.,\n",
       "       403., 404., 405., 406., 407., 408., 411., 412., 413.])"
      ]
     },
     "execution_count": 7,
     "metadata": {},
     "output_type": "execute_result"
    }
   ],
   "source": [
    "src_cdc37_homology_interface"
   ]
  },
  {
   "cell_type": "code",
   "execution_count": 14,
   "metadata": {},
   "outputs": [
    {
     "data": {
      "text/plain": [
       "'372+375+376+379+380+383+384+385+386+396+402+403+404+405+406+407+408+411+412+413'"
      ]
     },
     "execution_count": 14,
     "metadata": {},
     "output_type": "execute_result"
    }
   ],
   "source": [
    "'+'.join([str(int(x)) for x in src_cdc37_homology_interface])"
   ]
  },
  {
   "cell_type": "code",
   "execution_count": 1,
   "metadata": {},
   "outputs": [],
   "source": [
    "alphaF_pocket=[\n",
    "378, 381, 443, 444, 506,\n",
    "508, 511, 512\n",
    "]"
   ]
  },
  {
   "cell_type": "code",
   "execution_count": 3,
   "metadata": {},
   "outputs": [
    {
     "data": {
      "text/plain": [
       "'378+381+443+444+506+508+511+512'"
      ]
     },
     "execution_count": 3,
     "metadata": {},
     "output_type": "execute_result"
    }
   ],
   "source": [
    "'+'.join([str(x) for x in alphaF_pocket])"
   ]
  },
  {
   "cell_type": "code",
   "execution_count": null,
   "metadata": {},
   "outputs": [],
   "source": []
  }
 ],
 "metadata": {
  "kernelspec": {
   "display_name": "Python 3",
   "language": "python",
   "name": "python3"
  },
  "language_info": {
   "codemirror_mode": {
    "name": "ipython",
    "version": 3
   },
   "file_extension": ".py",
   "mimetype": "text/x-python",
   "name": "python",
   "nbconvert_exporter": "python",
   "pygments_lexer": "ipython3",
   "version": "3.7.6"
  }
 },
 "nbformat": 4,
 "nbformat_minor": 4
}
