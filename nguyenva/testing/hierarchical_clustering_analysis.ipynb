{
 "cells": [
  {
   "cell_type": "code",
   "execution_count": 1,
   "metadata": {},
   "outputs": [],
   "source": [
    "import pandas as pd\n",
    "import numpy as np\n",
    "import matplotlib.pyplot as plt\n",
    "from matplotlib.colors import DivergingNorm\n",
    "import sys\n",
    "sys.path.insert(1, '../../utils/')\n",
    "import src_utils\n",
    "import seaborn as sns"
   ]
  },
  {
   "cell_type": "code",
   "execution_count": 2,
   "metadata": {},
   "outputs": [],
   "source": [
    "# Heatmap\n",
    "resid_map = pd.read_csv('../heatmaps/raw_resid_heatmap.csv', index_col=0)\n",
    "\n",
    "# Masks for clients\n",
    "clients = np.loadtxt('../../utils/analysis_utils/client_mask.csv').astype(bool)\n",
    "strong_clients = np.loadtxt('../../utils/analysis_utils/strong_client_mask.csv').astype(bool)\n",
    "ihb_clients = np.loadtxt('../../utils/analysis_utils/inhibited_clients.csv').astype(bool)\n",
    "dep_clients = np.loadtxt('../../utils/analysis_utils/dependent_clients.csv').astype(bool)\n",
    "\n",
    "strong_ihb_clients = strong_clients & ihb_clients\n",
    "strong_dep_clients = strong_clients & dep_clients"
   ]
  },
  {
   "cell_type": "markdown",
   "metadata": {},
   "source": [
    "# Following directions from here: \n",
    "## https://joernhees.de/blog/2015/08/26/scipy-hierarchical-clustering-and-dendrogram-tutorial/"
   ]
  },
  {
   "cell_type": "code",
   "execution_count": 3,
   "metadata": {},
   "outputs": [],
   "source": [
    "from matplotlib import pyplot as plt\n",
    "from scipy.cluster.hierarchy import dendrogram, linkage\n",
    "import numpy as np\n",
    "np.set_printoptions(precision=5, suppress=True)"
   ]
  },
  {
   "cell_type": "code",
   "execution_count": 4,
   "metadata": {},
   "outputs": [
    {
     "data": {
      "text/plain": [
       "'X = np.zeros((250, 21))\\nfor i, row in enumerate(resid_map.values.copy()):\\n    idx = np.argwhere(np.isnan(row)).flatten()\\n    if len(idx) > 0 and len(idx) < 21:\\n        nanmean = np.nanmean(row)\\n        row[idx] = nanmean\\n    elif len(idx) == 21:\\n        row = np.zeros(21)\\n    X[i, :] = row'"
      ]
     },
     "execution_count": 4,
     "metadata": {},
     "output_type": "execute_result"
    }
   ],
   "source": [
    "# Fill with means\n",
    "\"\"\"X = np.zeros((250, 21))\n",
    "for i, row in enumerate(resid_map.values.copy()):\n",
    "    idx = np.argwhere(np.isnan(row)).flatten()\n",
    "    if len(idx) > 0 and len(idx) < 21:\n",
    "        nanmean = np.nanmean(row)\n",
    "        row[idx] = nanmean\n",
    "    elif len(idx) == 21:\n",
    "        row = np.zeros(21)\n",
    "    X[i, :] = row\"\"\""
   ]
  },
  {
   "cell_type": "code",
   "execution_count": 139,
   "metadata": {},
   "outputs": [
    {
     "data": {
      "text/plain": [
       "array([ 2,  3,  0,  8, 10,  6,  6,  3,  2,  0,  2,  0,  0,  5,  1, 13, 11,\n",
       "        6,  4, 11, 10, 12,  6,  6, 11,  3,  1,  5,  0,  4,  5,  0,  4,  0,\n",
       "        6,  0,  3,  1,  3,  0,  0,  0,  0,  0,  1,  3,  2,  1,  0,  2,  0,\n",
       "        2,  0, 12,  3,  6,  5,  5,  1,  5,  3,  6,  1,  1,  8,  9,  1,  3,\n",
       "        3,  0,  1,  1,  0,  1,  2,  3,  2,  1,  1,  5,  2,  2,  4,  3,  2,\n",
       "        4,  2,  4,  1,  0,  2,  4,  0,  1,  3,  2,  2,  2,  6,  2,  3,  4,\n",
       "        5,  2,  6,  6,  0,  5,  4,  3,  3,  7,  2,  0,  7,  2,  1,  0,  0,\n",
       "        2,  0,  2,  1,  2,  1,  1,  0,  4,  7,  3,  1,  5,  6,  2,  7,  0,\n",
       "        1,  2,  0,  0,  0,  3,  0,  9,  1,  2,  0,  0,  2,  0,  2,  0,  3,\n",
       "        0,  1,  2,  4,  0,  1,  2,  0,  0,  0,  4, 10,  2,  0,  2,  1,  0,\n",
       "        6,  3,  1,  7, 11,  2,  2,  1,  2,  0,  2,  0,  0,  3,  2,  2,  7,\n",
       "        0,  1,  3,  0,  0,  1,  1,  3,  1,  0,  1,  1,  1,  2,  0,  4,  1,\n",
       "        0,  0,  2,  3,  0,  2,  0,  1,  0,  0,  1,  0,  1,  0,  1,  1,  0,\n",
       "        2,  4,  0,  2,  5,  1,  1,  2,  3,  3,  3,  2,  5,  3,  2,  4,  3,\n",
       "        4,  0,  3,  5, 13,  3,  1,  1,  3,  0,  2,  3])"
      ]
     },
     "execution_count": 139,
     "metadata": {},
     "output_type": "execute_result"
    }
   ],
   "source": [
    "np.nansum(clients, axis=1)"
   ]
  },
  {
   "cell_type": "code",
   "execution_count": 211,
   "metadata": {},
   "outputs": [
    {
     "data": {
      "text/plain": [
       "(array([  4,  15,  16,  19,  20,  21,  24,  53, 164, 174, 242]),)"
      ]
     },
     "execution_count": 211,
     "metadata": {},
     "output_type": "execute_result"
    }
   ],
   "source": [
    "pos = np.where(np.nansum(clients, axis=1) >= 10)\n",
    "pos"
   ]
  },
  {
   "cell_type": "code",
   "execution_count": 212,
   "metadata": {},
   "outputs": [
    {
     "data": {
      "text/plain": [
       "(11, 21)"
      ]
     },
     "execution_count": 212,
     "metadata": {},
     "output_type": "execute_result"
    }
   ],
   "source": [
    "resid_map.values[pos].shape"
   ]
  },
  {
   "cell_type": "code",
   "execution_count": 213,
   "metadata": {},
   "outputs": [],
   "source": [
    "# generate the linkage matrix\n",
    "#X= resid_map.fillna(0.0)\n",
    "X= resid_map.fillna(0.0).values[pos]\n",
    "#Z = linkage(X, 'ward')\n",
    "Z = linkage(X, 'ward')"
   ]
  },
  {
   "cell_type": "code",
   "execution_count": 214,
   "metadata": {},
   "outputs": [
    {
     "data": {
      "text/plain": [
       "0.7518191890527369"
      ]
     },
     "execution_count": 214,
     "metadata": {},
     "output_type": "execute_result"
    }
   ],
   "source": [
    "from scipy.cluster.hierarchy import cophenet\n",
    "from scipy.spatial.distance import pdist\n",
    "\n",
    "c, coph_dists = cophenet(Z, pdist(X))\n",
    "c"
   ]
  },
  {
   "cell_type": "code",
   "execution_count": 215,
   "metadata": {},
   "outputs": [
    {
     "data": {
      "text/plain": [
       "array([[ 4.     ,  5.     ,  1.87963,  2.     ],\n",
       "       [ 7.     ,  8.     ,  1.98195,  2.     ],\n",
       "       [ 9.     , 12.     ,  2.28694,  3.     ],\n",
       "       [ 3.     , 11.     ,  2.81521,  3.     ],\n",
       "       [ 2.     , 14.     ,  2.99865,  4.     ],\n",
       "       [10.     , 13.     ,  3.00945,  4.     ],\n",
       "       [ 1.     , 15.     ,  3.92131,  5.     ],\n",
       "       [ 0.     ,  6.     ,  4.14249,  2.     ],\n",
       "       [17.     , 18.     ,  4.70554,  7.     ],\n",
       "       [16.     , 19.     ,  9.00109, 11.     ]])"
      ]
     },
     "execution_count": 215,
     "metadata": {},
     "output_type": "execute_result"
    }
   ],
   "source": [
    "Z[:20]"
   ]
  },
  {
   "cell_type": "code",
   "execution_count": 216,
   "metadata": {},
   "outputs": [
    {
     "data": {
      "image/png": "[encoded data removed]",
      "text/plain": [
       "<Figure size 1800x720 with 1 Axes>"
      ]
     },
     "metadata": {
      "needs_background": "light"
     },
     "output_type": "display_data"
    }
   ],
   "source": [
    "plt.figure(figsize=(25, 10))\n",
    "plt.title('Hierarchical Clustering Dendrogram')\n",
    "plt.xlabel('sample index')\n",
    "dendrogram(\n",
    "    Z,\n",
    "    leaf_rotation=90.,  # rotates the x axis labels\n",
    "    leaf_font_size=8.,  # font size for the x axis labels\n",
    ")\n",
    "plt.show()"
   ]
  },
  {
   "cell_type": "code",
   "execution_count": 217,
   "metadata": {},
   "outputs": [],
   "source": [
    "def fancy_dendrogram(*args, **kwargs):\n",
    "    max_d = kwargs.pop('max_d', None)\n",
    "    if max_d and 'color_threshold' not in kwargs:\n",
    "        kwargs['color_threshold'] = max_d\n",
    "    annotate_above = kwargs.pop('annotate_above', 0)\n",
    "\n",
    "    ddata = dendrogram(*args, **kwargs)\n",
    "\n",
    "    if not kwargs.get('no_plot', False):\n",
    "        plt.title('Hierarchical Clustering Dendrogram (truncated)')\n",
    "        plt.xlabel('sample index or (cluster size)')\n",
    "        plt.ylabel('distance')\n",
    "        for i, d, c in zip(ddata['icoord'], ddata['dcoord'], ddata['color_list']):\n",
    "            x = 0.5 * sum(i[1:3])\n",
    "            y = d[1]\n",
    "            if y > annotate_above:\n",
    "                plt.plot(x, y, 'o', c=c)\n",
    "                plt.annotate(\"%.3g\" % y, (x, y), xytext=(0, -5),\n",
    "                             textcoords='offset points',\n",
    "                             va='top', ha='center')\n",
    "        if max_d:\n",
    "            plt.axhline(y=max_d, c='k')\n",
    "    return ddata"
   ]
  },
  {
   "cell_type": "code",
   "execution_count": 218,
   "metadata": {},
   "outputs": [
    {
     "data": {
      "image/png": "[encoded data removed]",
      "text/plain": [
       "<Figure size 432x288 with 1 Axes>"
      ]
     },
     "metadata": {
      "needs_background": "light"
     },
     "output_type": "display_data"
    }
   ],
   "source": [
    "fancy_dendrogram(\n",
    "    Z,\n",
    "    truncate_mode='lastp',\n",
    "    p=34,\n",
    "    leaf_rotation=90.,\n",
    "    leaf_font_size=12.,\n",
    "    show_contracted=True,\n",
    "    annotate_above=3,  # useful in small plots so annotations don't overlap\n",
    ")\n",
    "plt.show()"
   ]
  },
  {
   "cell_type": "code",
   "execution_count": 219,
   "metadata": {},
   "outputs": [
    {
     "data": {
      "image/png": "[encoded data removed]",
      "text/plain": [
       "<Figure size 432x288 with 1 Axes>"
      ]
     },
     "metadata": {
      "needs_background": "light"
     },
     "output_type": "display_data"
    }
   ],
   "source": [
    "# set cut-off to 50\n",
    "max_d = 5.7  # max_d as in max_distance\n",
    "fancy_dendrogram(\n",
    "    Z,\n",
    "    truncate_mode='lastp',\n",
    "    p=30,\n",
    "    leaf_rotation=90.,\n",
    "    leaf_font_size=12.,\n",
    "    show_contracted=True,\n",
    "    annotate_above=3,\n",
    "    max_d=max_d,  # plot a horizontal cut-off line\n",
    ")\n",
    "plt.show()"
   ]
  },
  {
   "cell_type": "code",
   "execution_count": 220,
   "metadata": {},
   "outputs": [
    {
     "data": {
      "text/plain": [
       "array([2, 2, 2, 2, 2, 2, 2, 1, 1, 1, 1], dtype=int32)"
      ]
     },
     "execution_count": 220,
     "metadata": {},
     "output_type": "execute_result"
    }
   ],
   "source": [
    "from scipy.cluster.hierarchy import fcluster\n",
    "clusters = fcluster(Z, max_d, criterion='distance')\n",
    "clusters\n",
    "#clusters = fcluster(Z, 30, criterion='maxclust')\n",
    "#clusters\n"
   ]
  },
  {
   "cell_type": "code",
   "execution_count": 221,
   "metadata": {},
   "outputs": [],
   "source": [
    "inv_pos_idx_dict = inv_map = {v: k for k, v in src_utils.__pos_idx_dict__.items()}"
   ]
  },
  {
   "cell_type": "code",
   "execution_count": 222,
   "metadata": {},
   "outputs": [],
   "source": [
    "clust_dict = {}\n",
    "for cluster in np.arange(1, max(clusters) + 1):\n",
    "    clust_dict[cluster] = np.argwhere(clusters == cluster).flatten()"
   ]
  },
  {
   "cell_type": "markdown",
   "metadata": {},
   "source": [
    "# Look at individual cluster heatmaps"
   ]
  },
  {
   "cell_type": "code",
   "execution_count": 223,
   "metadata": {},
   "outputs": [],
   "source": [
    "def gen_clust_mask(cluster_arr, cluster, heatmap):\n",
    "    mask = np.expand_dims(cluster_arr == cluster, axis=1)\n",
    "    mask = np.repeat(mask, repeats=heatmap.values.shape[1], axis=1)\n",
    "    return(mask)"
   ]
  },
  {
   "cell_type": "code",
   "execution_count": 224,
   "metadata": {},
   "outputs": [],
   "source": [
    "clust_masks = {}\n",
    "for cluster in clust_dict.keys():\n",
    "    clust_masks[cluster] = gen_clust_mask(clusters, cluster, resid_map)"
   ]
  },
  {
   "cell_type": "code",
   "execution_count": 225,
   "metadata": {},
   "outputs": [
    {
     "name": "stdout",
     "output_type": "stream",
     "text": [
      "323+434+444+512\n"
     ]
    },
    {
     "data": {
      "image/png": "[encoded data removed]",
      "text/plain": [
       "<Figure size 432x288 with 1 Axes>"
      ]
     },
     "metadata": {
      "needs_background": "light"
     },
     "output_type": "display_data"
    },
    {
     "name": "stdout",
     "output_type": "stream",
     "text": [
      "274+285+286+289+290+291+294\n"
     ]
    },
    {
     "data": {
      "image/png": "[encoded data removed]",
      "text/plain": [
       "<Figure size 432x288 with 1 Axes>"
      ]
     },
     "metadata": {
      "needs_background": "light"
     },
     "output_type": "display_data"
    }
   ],
   "source": [
    "for cluster in clust_dict.keys():\n",
    "    clust = clust_dict[cluster]\n",
    "    clust = [inv_pos_idx_dict[pos[0][x]] for x in clust]\n",
    "    mask = clust_masks[cluster]\n",
    "    #heatmap = X.values[mask].reshape(-1, 21).T\n",
    "    heatmap = X[mask].reshape(-1, 21).T\n",
    "    fig, ax = plt.subplots()\n",
    "    plt.imshow(heatmap, cmap='bwr', vmin=-4, vmax=4)\n",
    "    # Set tick locations\n",
    "    ax.set_yticks(np.arange(heatmap.shape[0]))\n",
    "    ax.set_xticks(np.arange(heatmap.shape[1]))\n",
    "\n",
    "    # Set tick labels\n",
    "    ax.set_yticklabels(src_utils.__aa_idx_dict__.keys())\n",
    "    ax.set_xticklabels([str(x) for x in clust])\n",
    "    print('+'.join([str(x) for x in clust]))\n",
    "    plt.xticks(rotation='vertical')\n",
    "    plt.title('Cluster {}'.format(cluster))\n",
    "    plt.show()"
   ]
  },
  {
   "cell_type": "code",
   "execution_count": 172,
   "metadata": {},
   "outputs": [
    {
     "name": "stdout",
     "output_type": "stream",
     "text": [
      "run fowler/src/PyMOL/scripts/loadBfacts.py\n",
      "run fowler/src/PyMOL/scripts/alphaToAll.py\n",
      "cd fowler/src/PyMOL/\n",
      "loadBfacts 2src_kinDom, startaa = 270, source = max_client_scores.txt\n",
      "cmd.cartoon(\"automatic\")\n",
      "alphaToAll *, b\n",
      "spectrum b, palette=blue_white_red, minimum=-0.66, maximum=0.80\n",
      "@./scripts/src_1.pml\n",
      "ray 800,1000\n"
     ]
    }
   ],
   "source": [
    "print('run fowler/src/PyMOL/scripts/loadBfacts.py')\n",
    "print('run fowler/src/PyMOL/scripts/alphaToAll.py')\n",
    "print('cd fowler/src/PyMOL/')\n",
    "print('loadBfacts 2src_kinDom, startaa = 270, source = max_client_scores.txt')\n",
    "print('cmd.cartoon(\\\"automatic\\\")')\n",
    "print('alphaToAll *, b')\n",
    "print('spectrum b, palette=blue_white_red, minimum={:.2f}, maximum={:.2f}'.format(np.nanmin(client_scores), np.nanmax(client_scores)))\n",
    "print('@./scripts/src_1.pml')\n",
    "#print('ray 800,1000')"
   ]
  },
  {
   "cell_type": "code",
   "execution_count": 35,
   "metadata": {},
   "outputs": [
    {
     "data": {
      "text/plain": [
       "array([ 0.09   ,  0.05015,  0.     ,  0.10733, -0.01345,  0.05194,\n",
       "       -0.01119, -0.01492,  0.02667, -0.17778,  0.16912,  0.10385,\n",
       "       -0.02588,  0.02487,  0.00911, -0.11436,  0.00227, -0.01492,\n",
       "       -0.00172, -0.01846,  0.06763, -0.00281, -0.00376,  0.02094,\n",
       "        0.03104, -0.07138,  0.05346, -0.01651, -0.07577,  0.16149,\n",
       "       -0.01057, -0.05218, -0.06301,  0.04858, -0.02072, -0.00072,\n",
       "       -0.25184,  0.06847, -0.13829,  0.08943, -0.00208,  0.08142,\n",
       "        0.00113, -0.01448,  0.08251, -0.04012,  0.09002,  0.01168,\n",
       "        0.06934,  0.02633, -0.04277, -0.00522, -0.02984, -0.02607,\n",
       "       -0.07516,  0.05751,  0.02483, -0.04646, -0.17566, -0.02658,\n",
       "       -0.10866, -0.15643, -0.08737, -0.1103 , -0.04665, -0.06166,\n",
       "       -0.0769 , -0.00705, -0.00758,  0.01376, -0.1412 , -0.03781,\n",
       "       -0.03517, -0.07332, -0.02971, -0.08809, -0.02909, -0.14251,\n",
       "       -0.11128, -0.07249, -0.02582, -0.08513, -0.14106,  0.04105,\n",
       "       -0.21077, -0.0919 ,  0.01862, -0.00112, -0.05487, -0.00399,\n",
       "       -0.00031, -0.03745,  0.08195,  0.01903,  0.02947, -0.02267,\n",
       "        0.03655,  0.00137,  0.04017, -0.04042,  0.02996,  0.04706,\n",
       "       -0.04933,  0.01355, -0.12157, -0.16035, -0.11755, -0.06289,\n",
       "       -0.02197, -0.13461, -0.00408, -0.26482,  0.00298, -0.0297 ,\n",
       "        0.02118,  0.01755,  0.05313,  0.01117,  0.05857,  0.02491,\n",
       "        0.0426 , -0.05011,  0.02692,  0.02313, -0.00829,  0.01623,\n",
       "       -0.00906,  0.07119,  0.11309, -0.00922,  0.05203,  0.11032,\n",
       "        0.02871,  0.01345,  0.01196,  0.03927,  0.01306,  0.01073,\n",
       "       -0.07804, -0.32267, -0.03456,  0.00752, -0.02047,  0.01538,\n",
       "        0.05609, -0.13897, -0.06898,  0.06374, -0.31897, -0.31154,\n",
       "       -0.16785, -0.03238, -0.01925, -0.09909, -0.01962,  0.00231,\n",
       "       -0.03247, -0.00558,  0.06334, -0.13673, -0.02302, -0.02219,\n",
       "       -0.05531,  0.06759, -0.05006, -0.00108, -0.02583,  0.00049,\n",
       "        0.05551, -0.0875 ,  0.00244, -0.09074, -0.03326, -0.009  ,\n",
       "        0.01934,  0.07739,  0.04382, -0.01687,  0.     , -0.00187,\n",
       "       -0.00007, -0.02111,  0.00052,  0.0436 , -0.02148,  0.00122,\n",
       "       -0.07263, -0.06506, -0.05608, -0.07566,  0.00126, -0.08818,\n",
       "       -0.02227, -0.01776, -0.13355,  0.00739,  0.     , -0.07229,\n",
       "       -0.07089, -0.03316, -0.02099, -0.05618, -0.01136, -0.10917,\n",
       "       -0.11625, -0.12735, -0.07446, -0.07062, -0.07518, -0.1763 ,\n",
       "       -0.09081, -0.0923 , -0.00406, -0.08149, -0.24402, -0.49719,\n",
       "       -0.13041,  0.06002, -0.06066, -0.03343,  0.     , -0.04401,\n",
       "       -0.06268])"
      ]
     },
     "execution_count": 35,
     "metadata": {},
     "output_type": "execute_result"
    }
   ],
   "source": [
    "cluster = 1\n",
    "clust = clust_dict[cluster]\n",
    "mask = clust_masks[cluster]\n",
    "heatmap = X.values[mask].reshape(-1, 21).T\n",
    "np.nanmean(heatmap, axis=0)"
   ]
  },
  {
   "cell_type": "code",
   "execution_count": 591,
   "metadata": {},
   "outputs": [
    {
     "data": {
      "text/plain": [
       "array([10, 14, 17, 18, 12, 15, 17,  8])"
      ]
     },
     "execution_count": 591,
     "metadata": {},
     "output_type": "execute_result"
    }
   ],
   "source": [
    "np.count_"
   ]
  },
  {
   "cell_type": "code",
   "execution_count": 563,
   "metadata": {},
   "outputs": [],
   "source": [
    "sh3_interface=[\n",
    "270, 271, 289, 290, 292,\n",
    "293, 295, 311, 314, 315,\n",
    "327, 328, 329, 330, 331,\n",
    "332, 333, 334, 336, 338,\n",
    "340, 342, 403\n",
    "]\n",
    "\n",
    "sh2_interface=[\n",
    "323, 324, 368, 371, 372,\n",
    "400, 402, 519, 520\n",
    "]\n",
    "\n",
    "alphaF_pocket=[\n",
    "378, 381, 443, 444, 506,\n",
    "508, 511, 512\n",
    "]\n",
    "\n",
    "active_site=[\n",
    "281, 280, 278, 298, 284,\n",
    "296, 276, 341, 342, 326,\n",
    "344, 396, 343, 345, 351,\n",
    "394, 391, 389, 407\n",
    "]\n",
    "\n",
    "src_hsp90_homology_interface=[\n",
    "337, 338, 339, 340, 341,\n",
    "342, 343, 345, 346, 347,\n",
    "351, 352, 355, 371, 375,\n",
    "382, 398, 399, 400, 402,\n",
    "404, 412, 415, 417, 418,\n",
    "513, 515, 516,\n",
    "]\n",
    "\n",
    "src_cdc37_homology_interface=[\n",
    "372, 375, 376, 379, 380,\n",
    "383, 384, 385, 386, 396,\n",
    "402, 403, 404, 405, 406,\n",
    "407, 408, 411, 412, 413,\n",
    "]\n",
    "\n",
    "interface_dict = {\n",
    "    'sh3' : sh3_interface,\n",
    "    'sh2' : sh2_interface,\n",
    "    'af' : alphaF_pocket,\n",
    "    'as' : active_site,\n",
    "    'hsp90': src_hsp90_homology_interface,\n",
    "    'cdc37': src_cdc37_homology_interface\n",
    "}"
   ]
  },
  {
   "cell_type": "code",
   "execution_count": 580,
   "metadata": {},
   "outputs": [],
   "source": [
    "# Identify which interfaces are present in these clusters\n",
    "clust_int = {}\n",
    "for pos in clust_dict[7]:\n",
    "    pos = inv_pos_idx_dict[pos]\n",
    "    interfaces = []\n",
    "    for intfc in interface_dict.keys():\n",
    "        if pos in interface_dict[intfc]:\n",
    "            interfaces.append(intfc)\n",
    "    clust_int[pos] = interfaces"
   ]
  },
  {
   "cell_type": "code",
   "execution_count": 585,
   "metadata": {},
   "outputs": [
    {
     "data": {
      "text/plain": [
       "'273+276+286+289+290+291+300+304+413'"
      ]
     },
     "execution_count": 585,
     "metadata": {},
     "output_type": "execute_result"
    }
   ],
   "source": [
    "'+'.join([str(inv_pos_idx_dict[x]) for x in clust_dict[1]])"
   ]
  },
  {
   "cell_type": "code",
   "execution_count": 567,
   "metadata": {},
   "outputs": [
    {
     "data": {
      "text/plain": [
       "{1: array([  3,   6,  16,  19,  20,  21,  30,  34, 143]),\n",
       " 2: array([15, 24]),\n",
       " 3: array([4]),\n",
       " 4: array([ 17,  29,  42,  44,  45,  49,  71,  75,  78,  79,  81,  82,  83,\n",
       "         84,  87,  91,  93,  94, 100, 101, 103, 104, 105, 108, 112, 122,\n",
       "        128, 129, 130, 132, 134, 145, 148, 163, 170, 171, 173, 175, 176,\n",
       "        177, 178, 184, 188, 192, 195, 209, 218, 221, 222, 224, 225, 228,\n",
       "        230, 231, 232, 233, 236, 238, 240, 243, 248]),\n",
       " 5: array([ 53,  55, 107, 127, 164, 174, 234, 237, 241, 242]),\n",
       " 6: array([ 13,  27,  56,  59,  61,  65, 186, 189]),\n",
       " 7: array([  5, 102, 111]),\n",
       " 8: array([  0,   1,   2,   7,   8,   9,  10,  11,  12,  14,  18,  22,  23,\n",
       "         25,  26,  28,  31,  32,  33,  35,  36,  37,  38,  39,  40,  41,\n",
       "         43,  46,  47,  48,  50,  51,  52,  54,  57,  58,  60,  62,  63,\n",
       "         64,  66,  67,  68,  69,  70,  72,  73,  74,  76,  77,  80,  85,\n",
       "         86,  88,  89,  90,  92,  95,  96,  97,  98,  99, 106, 109, 110,\n",
       "        113, 114, 115, 116, 117, 118, 119, 120, 121, 123, 124, 125, 126,\n",
       "        131, 133, 135, 136, 137, 138, 139, 140, 141, 142, 144, 146, 147,\n",
       "        149, 150, 151, 152, 153, 154, 155, 156, 157, 158, 159, 160, 161,\n",
       "        162, 165, 166, 167, 168, 169, 172, 179, 180, 181, 182, 183, 185,\n",
       "        187, 190, 191, 193, 194, 196, 197, 198, 199, 200, 201, 202, 203,\n",
       "        204, 205, 206, 207, 208, 210, 211, 212, 213, 214, 215, 216, 217,\n",
       "        219, 220, 223, 226, 227, 229, 235, 239, 244, 245, 246, 247, 249])}"
      ]
     },
     "execution_count": 567,
     "metadata": {},
     "output_type": "execute_result"
    }
   ],
   "source": [
    "clust_dict"
   ]
  },
  {
   "cell_type": "code",
   "execution_count": null,
   "metadata": {},
   "outputs": [],
   "source": []
  }
 ],
 "metadata": {
  "kernelspec": {
   "display_name": "Python 3",
   "language": "python",
   "name": "python3"
  },
  "language_info": {
   "codemirror_mode": {
    "name": "ipython",
    "version": 3
   },
   "file_extension": ".py",
   "mimetype": "text/x-python",
   "name": "python",
   "nbconvert_exporter": "python",
   "pygments_lexer": "ipython3",
   "version": "3.7.6"
  }
 },
 "nbformat": 4,
 "nbformat_minor": 4
}
