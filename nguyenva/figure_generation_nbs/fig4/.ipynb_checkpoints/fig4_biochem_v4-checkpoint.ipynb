{
 "cells": [
  {
   "cell_type": "code",
   "execution_count": 1,
   "metadata": {},
   "outputs": [],
   "source": [
    "import pandas as pd\n",
    "import numpy as np\n",
    "import matplotlib.pyplot as plt\n",
    "from matplotlib.colors import DivergingNorm\n",
    "import sys\n",
    "sys.path.insert(1, '../../../utils/')\n",
    "import src_utils\n",
    "import seaborn as sns\n",
    "\n",
    "import matplotlib\n",
    "import matplotlib.pyplot as plt\n",
    "import matplotlib.gridspec as gridspec\n",
    "\n",
    "import scipy"
   ]
  },
  {
   "cell_type": "markdown",
   "metadata": {},
   "source": [
    "# 1. Set rcParams"
   ]
  },
  {
   "cell_type": "code",
   "execution_count": 24,
   "metadata": {},
   "outputs": [],
   "source": [
    "SMALL_SIZE = 8\n",
    "MEDIUM_SIZE = 10\n",
    "BIGGER_SIZE = 12\n",
    "\n",
    "plt.rcParams['axes.linewidth'] = 0.5\n",
    "\n",
    "plt.rcParams[\"figure.dpi\"] = 300\n",
    "\n",
    "plt.rc('font', size=SMALL_SIZE)          # controls default text sizes\n",
    "plt.rc('axes', titlesize=MEDIUM_SIZE)     # fontsize of the axes title\n",
    "plt.rc('axes', labelsize=MEDIUM_SIZE)    # fontsize of the x and y labels\n",
    "plt.rc('xtick', labelsize=SMALL_SIZE)    # fontsize of the tick labels\n",
    "plt.rc('ytick', labelsize=SMALL_SIZE)    # fontsize of the tick labels\n",
    "plt.rc('legend', fontsize=SMALL_SIZE)    # legend fontsize\n",
    "plt.rc('figure', titlesize=MEDIUM_SIZE)  # fontsize of the figure title"
   ]
  },
  {
   "cell_type": "markdown",
   "metadata": {},
   "source": [
    "# 2. Set up grid"
   ]
  },
  {
   "cell_type": "code",
   "execution_count": 25,
   "metadata": {},
   "outputs": [
    {
     "data": {
      "image/png": "[encoded data removed]",
      "text/plain": [
       "<Figure size 1346.46x1370.08 with 2 Axes>"
      ]
     },
     "metadata": {
      "needs_background": "light"
     },
     "output_type": "display_data"
    }
   ],
   "source": [
    "width = 114 / 25.4\n",
    "height = 116 / 25.4\n",
    "fig4 = plt.figure(constrained_layout=False, figsize=(width, height))\n",
    "gs2 = fig4.add_gridspec(1, 2, left=0.16, right=0.95)\n",
    "\n",
    "f4_ax3 = fig4.add_subplot(gs2[0, 0])\n",
    "f4_ax4 = fig4.add_subplot(gs2[0, 1])\n"
   ]
  },
  {
   "cell_type": "markdown",
   "metadata": {},
   "source": [
    "# Read in necessary data"
   ]
  },
  {
   "cell_type": "code",
   "execution_count": 26,
   "metadata": {},
   "outputs": [],
   "source": [
    "# All residual values\n",
    "resid_map = pd.read_csv('../../heatmaps/raw_resid_heatmap.csv', index_col=0)\n",
    "\n",
    "# Client masks\n",
    "client_mask = np.loadtxt('../../../utils/analysis_utils/client_mask.csv').astype(bool)\n",
    "strong_client_mask = np.loadtxt('../../../utils/analysis_utils/strong_client_mask.csv').astype(bool)\n",
    "ihb_client_mask = np.loadtxt('../../../utils/analysis_utils/inhibited_clients.csv').astype(bool)\n",
    "dep_client_mask = np.loadtxt('../../../utils/analysis_utils/dependent_clients.csv').astype(bool)"
   ]
  },
  {
   "cell_type": "markdown",
   "metadata": {},
   "source": [
    "# A. Windowed average"
   ]
  },
  {
   "cell_type": "code",
   "execution_count": 27,
   "metadata": {},
   "outputs": [],
   "source": [
    "# Calculate moving average of client scores\n",
    "def moving_average(a, n=10) :\n",
    "    ret = np.nancumsum(a, dtype=float)\n",
    "    ret[n:] = ret[n:] - ret[:-n]\n",
    "    return ret[n - 1:] / n\n",
    "\n",
    "pos_resid_ave = resid_map.mean(axis=1, skipna=True).values\n",
    "windowed_resids = moving_average(pos_resid_ave)"
   ]
  },
  {
   "cell_type": "markdown",
   "metadata": {},
   "source": [
    "# B. Inhibited vs dependent clients by position"
   ]
  },
  {
   "cell_type": "code",
   "execution_count": 28,
   "metadata": {},
   "outputs": [
    {
     "name": "stderr",
     "output_type": "stream",
     "text": [
      "/opt/anaconda3/lib/python3.7/site-packages/ipykernel_launcher.py:7: RuntimeWarning: invalid value encountered in true_divide\n",
      "  import sys\n",
      "/opt/anaconda3/lib/python3.7/site-packages/ipykernel_launcher.py:8: RuntimeWarning: invalid value encountered in true_divide\n",
      "  \n"
     ]
    }
   ],
   "source": [
    "# Get number of inhibited and dependent\n",
    "num_dep = np.sum(dep_client_mask * 1, axis=1)\n",
    "num_ihb = np.sum(ihb_client_mask * 1, axis=1)\n",
    "num_mut = np.sum(~np.isnan(resid_map.values), axis=1)\n",
    "\n",
    "# Calculate percentage\n",
    "perc_dep = 100 * (num_dep / num_mut)\n",
    "perc_ihb = 100 * (num_ihb / num_mut)\n",
    "\n",
    "cmap = matplotlib.cm.get_cmap('bwr')\n",
    "dep = cmap(0.3)\n",
    "ihb = cmap(0.8)\n",
    "\n",
    "pos_arr = np.arange(270, 520)\n"
   ]
  },
  {
   "cell_type": "markdown",
   "metadata": {},
   "source": [
    "# D. Difference from median score"
   ]
  },
  {
   "cell_type": "code",
   "execution_count": 29,
   "metadata": {},
   "outputs": [
    {
     "data": {
      "text/plain": [
       "Text(13.333333333333318, 0.5, 'Amino acid')"
      ]
     },
     "execution_count": 29,
     "metadata": {},
     "output_type": "execute_result"
    }
   ],
   "source": [
    "# Types of mutants in clients\n",
    "client_med_aa = np.nanmedian(resid_map.values, axis=0)\n",
    "\n",
    "# Dictionary for ticks\n",
    "inv_aa_idx_dict = {v: k for k, v in src_utils.__aa_idx_dict__.items()}\n",
    "\n",
    "# Set tick labels and locations\n",
    "y_pos = list(inv_aa_idx_dict.keys())\n",
    "tick_labels = inv_aa_idx_dict.values()\n",
    "\n",
    "# Plot bars\n",
    "f4_ax3.barh(y_pos[:-1], client_med_aa[:-1], align='center', color='lightgrey')\n",
    "f4_ax3.axvline(0, c='k')\n",
    "\n",
    "# Relabel ticks\n",
    "f4_ax3.set_yticks(y_pos[:-1])\n",
    "f4_ax3.set_yticklabels(list(tick_labels)[:-1])\n",
    "f4_ax3.set_xticks([-0.046, 0, 0.046])\n",
    "f4_ax3.set_xticklabels([-0.03, 0, 0.03])\n",
    "f4_ax3.invert_yaxis()  # labels read top-to-bottom\n",
    "\n",
    "# Label axes\n",
    "f4_ax3.set_xlabel('Median client score')\n",
    "f4_ax3.set_ylabel('Amino acid')"
   ]
  },
  {
   "cell_type": "code",
   "execution_count": 30,
   "metadata": {},
   "outputs": [
    {
     "data": {
      "text/plain": [
       "'W'"
      ]
     },
     "execution_count": 30,
     "metadata": {},
     "output_type": "execute_result"
    }
   ],
   "source": [
    "list(tick_labels)[-5]"
   ]
  },
  {
   "cell_type": "code",
   "execution_count": 31,
   "metadata": {},
   "outputs": [
    {
     "data": {
      "text/plain": [
       "-0.0469336069146995"
      ]
     },
     "execution_count": 31,
     "metadata": {},
     "output_type": "execute_result"
    }
   ],
   "source": [
    "client_med_aa[-5]"
   ]
  },
  {
   "cell_type": "code",
   "execution_count": 32,
   "metadata": {},
   "outputs": [],
   "source": [
    "# Permutation test\n",
    "from numpy.random import shuffle\n",
    "\n",
    "num_muts = np.sum(~np.isnan(resid_map.values), axis=0)\n",
    "num_dep = np.sum(dep_client_mask * 1, axis=0)\n",
    "num_ihb = np.sum(ihb_client_mask * 1, axis=0)\n",
    "num_muts = num_dep + num_ihb\n",
    "\n",
    "t = abs(num_ihb - num_dep)\n",
    "\n",
    "dep_copy = dep_client_mask.copy()\n",
    "ihb_copy = ihb_client_mask.copy()\n",
    "\n",
    "n_iter = 100000\n",
    "results = np.zeros((21, n_iter))\n",
    "for idx in np.arange(n_iter):\n",
    "    # Flatten both\n",
    "    dep_copy = dep_copy.flatten()\n",
    "    ihb_copy = ihb_copy.flatten()\n",
    "    \n",
    "    # Shuffle as a 1D array\n",
    "    shuffle(dep_copy)\n",
    "    shuffle(ihb_copy)\n",
    "    \n",
    "    # Reshape into the right shape\n",
    "    dep_copy = np.reshape(dep_copy, (250, 21))\n",
    "    ihb_copy = np.reshape(ihb_copy, (250, 21))\n",
    "    \n",
    "    num_dep = np.sum(dep_copy * 1, axis=0)\n",
    "    num_ihb = np.sum(ihb_copy * 1, axis=0)\n",
    "    \n",
    "    #perc_dep = 100 * (num_dep / num_muts)\n",
    "    #perc_ihb = 100 * (num_ihb / num_muts)\n",
    "    \n",
    "    results[:, idx] = abs(num_ihb - num_dep)\n",
    "\n",
    "# Calculate how many are above the threshold\n",
    "n_over_t = np.zeros(21)\n",
    "\n",
    "for idx in np.arange(len(n_over_t)):\n",
    "    \n",
    "    row = results[idx, :]\n",
    "    count = sum(row > t[idx])\n",
    "    n_over_t[idx] = count\n",
    "    \n",
    "n_over_t = (1.0 * n_over_t) / (1.0 * n_iter)\n",
    "\n",
    "alpha = 0.05\n",
    "sig_aas = n_over_t < alpha\n",
    "\n",
    "pos = []\n",
    "for idx, sig in enumerate(sig_aas):\n",
    "    if sig:\n",
    "        pos.append(idx)"
   ]
  },
  {
   "cell_type": "code",
   "execution_count": 33,
   "metadata": {},
   "outputs": [
    {
     "data": {
      "text/plain": [
       "[17]"
      ]
     },
     "execution_count": 33,
     "metadata": {},
     "output_type": "execute_result"
    }
   ],
   "source": [
    "# 0. Put p-values and AAs in DataFrame\n",
    "p_vals = pd.DataFrame(n_over_t, index=tick_labels, columns=['p-value'])\n",
    "\n",
    "# 1. Sort to ascending order\n",
    "p_vals.sort_values(by='p-value', inplace=True)\n",
    "\n",
    "# 2. Assign ranks\n",
    "p_vals['rank'] = np.arange(1, len(p_vals) + 1)\n",
    "\n",
    "# 3. Calculate critical B-H value\n",
    "fdr_rate = 0.1\n",
    "q_vals = []\n",
    "n_tests = len(p_vals)\n",
    "pos = []\n",
    "for aa in p_vals.index.tolist():\n",
    "    \n",
    "    # Grab p-value and rank\n",
    "    p_val = p_vals.loc[aa, 'p-value']\n",
    "    rank = p_vals.loc[aa, 'rank']\n",
    "    \n",
    "    # Calculate critical B-H value\n",
    "    q_val = (rank / n_tests) * fdr_rate\n",
    "    \n",
    "    # Append to list of q-values\n",
    "    q_vals.append(q_val)\n",
    "    \n",
    "    # Save AA if p-value < q-value:\n",
    "    if p_val < q_val:\n",
    "        pos.append(aa)\n",
    "\n",
    "# Append q-values to DataFrame\n",
    "p_vals['q-value'] = q_vals\n",
    "\n",
    "pos = [src_utils.__aa_idx_dict__[aa] for aa in pos]\n",
    "pos"
   ]
  },
  {
   "cell_type": "code",
   "execution_count": 34,
   "metadata": {},
   "outputs": [
    {
     "data": {
      "text/html": [
       "<div>\n",
       "<style scoped>\n",
       "    .dataframe tbody tr th:only-of-type {\n",
       "        vertical-align: middle;\n",
       "    }\n",
       "\n",
       "    .dataframe tbody tr th {\n",
       "        vertical-align: top;\n",
       "    }\n",
       "\n",
       "    .dataframe thead th {\n",
       "        text-align: right;\n",
       "    }\n",
       "</style>\n",
       "<table border=\"1\" class=\"dataframe\">\n",
       "  <thead>\n",
       "    <tr style=\"text-align: right;\">\n",
       "      <th></th>\n",
       "      <th>p-value</th>\n",
       "      <th>rank</th>\n",
       "      <th>q-value</th>\n",
       "    </tr>\n",
       "  </thead>\n",
       "  <tbody>\n",
       "    <tr>\n",
       "      <th>Y</th>\n",
       "      <td>0.00345</td>\n",
       "      <td>1</td>\n",
       "      <td>0.004762</td>\n",
       "    </tr>\n",
       "    <tr>\n",
       "      <th>F</th>\n",
       "      <td>0.02939</td>\n",
       "      <td>2</td>\n",
       "      <td>0.009524</td>\n",
       "    </tr>\n",
       "    <tr>\n",
       "      <th>Q</th>\n",
       "      <td>0.04695</td>\n",
       "      <td>3</td>\n",
       "      <td>0.014286</td>\n",
       "    </tr>\n",
       "    <tr>\n",
       "      <th>R</th>\n",
       "      <td>0.07096</td>\n",
       "      <td>4</td>\n",
       "      <td>0.019048</td>\n",
       "    </tr>\n",
       "    <tr>\n",
       "      <th>I</th>\n",
       "      <td>0.07357</td>\n",
       "      <td>5</td>\n",
       "      <td>0.023810</td>\n",
       "    </tr>\n",
       "    <tr>\n",
       "      <th>V</th>\n",
       "      <td>0.15511</td>\n",
       "      <td>6</td>\n",
       "      <td>0.028571</td>\n",
       "    </tr>\n",
       "    <tr>\n",
       "      <th>K</th>\n",
       "      <td>0.15527</td>\n",
       "      <td>7</td>\n",
       "      <td>0.033333</td>\n",
       "    </tr>\n",
       "    <tr>\n",
       "      <th>S</th>\n",
       "      <td>0.15597</td>\n",
       "      <td>8</td>\n",
       "      <td>0.038095</td>\n",
       "    </tr>\n",
       "    <tr>\n",
       "      <th>W</th>\n",
       "      <td>0.21739</td>\n",
       "      <td>9</td>\n",
       "      <td>0.042857</td>\n",
       "    </tr>\n",
       "    <tr>\n",
       "      <th>A</th>\n",
       "      <td>0.21869</td>\n",
       "      <td>10</td>\n",
       "      <td>0.047619</td>\n",
       "    </tr>\n",
       "    <tr>\n",
       "      <th>T</th>\n",
       "      <td>0.29561</td>\n",
       "      <td>11</td>\n",
       "      <td>0.052381</td>\n",
       "    </tr>\n",
       "    <tr>\n",
       "      <th>G</th>\n",
       "      <td>0.29606</td>\n",
       "      <td>12</td>\n",
       "      <td>0.057143</td>\n",
       "    </tr>\n",
       "    <tr>\n",
       "      <th>E</th>\n",
       "      <td>0.29850</td>\n",
       "      <td>13</td>\n",
       "      <td>0.061905</td>\n",
       "    </tr>\n",
       "    <tr>\n",
       "      <th>L</th>\n",
       "      <td>0.29933</td>\n",
       "      <td>14</td>\n",
       "      <td>0.066667</td>\n",
       "    </tr>\n",
       "    <tr>\n",
       "      <th>*</th>\n",
       "      <td>0.39593</td>\n",
       "      <td>15</td>\n",
       "      <td>0.071429</td>\n",
       "    </tr>\n",
       "    <tr>\n",
       "      <th>D</th>\n",
       "      <td>0.50566</td>\n",
       "      <td>16</td>\n",
       "      <td>0.076190</td>\n",
       "    </tr>\n",
       "    <tr>\n",
       "      <th>M</th>\n",
       "      <td>0.63387</td>\n",
       "      <td>17</td>\n",
       "      <td>0.080952</td>\n",
       "    </tr>\n",
       "    <tr>\n",
       "      <th>P</th>\n",
       "      <td>0.77620</td>\n",
       "      <td>18</td>\n",
       "      <td>0.085714</td>\n",
       "    </tr>\n",
       "    <tr>\n",
       "      <th>C</th>\n",
       "      <td>0.77799</td>\n",
       "      <td>19</td>\n",
       "      <td>0.090476</td>\n",
       "    </tr>\n",
       "    <tr>\n",
       "      <th>N</th>\n",
       "      <td>0.77827</td>\n",
       "      <td>20</td>\n",
       "      <td>0.095238</td>\n",
       "    </tr>\n",
       "    <tr>\n",
       "      <th>H</th>\n",
       "      <td>0.92412</td>\n",
       "      <td>21</td>\n",
       "      <td>0.100000</td>\n",
       "    </tr>\n",
       "  </tbody>\n",
       "</table>\n",
       "</div>"
      ],
      "text/plain": [
       "   p-value  rank   q-value\n",
       "Y  0.00345     1  0.004762\n",
       "F  0.02939     2  0.009524\n",
       "Q  0.04695     3  0.014286\n",
       "R  0.07096     4  0.019048\n",
       "I  0.07357     5  0.023810\n",
       "V  0.15511     6  0.028571\n",
       "K  0.15527     7  0.033333\n",
       "S  0.15597     8  0.038095\n",
       "W  0.21739     9  0.042857\n",
       "A  0.21869    10  0.047619\n",
       "T  0.29561    11  0.052381\n",
       "G  0.29606    12  0.057143\n",
       "E  0.29850    13  0.061905\n",
       "L  0.29933    14  0.066667\n",
       "*  0.39593    15  0.071429\n",
       "D  0.50566    16  0.076190\n",
       "M  0.63387    17  0.080952\n",
       "P  0.77620    18  0.085714\n",
       "C  0.77799    19  0.090476\n",
       "N  0.77827    20  0.095238\n",
       "H  0.92412    21  0.100000"
      ]
     },
     "execution_count": 34,
     "metadata": {},
     "output_type": "execute_result"
    }
   ],
   "source": [
    "p_vals"
   ]
  },
  {
   "cell_type": "code",
   "execution_count": 35,
   "metadata": {},
   "outputs": [
    {
     "data": {
      "text/plain": [
       "array([19, 19, 17, 16, 17, 13, 19, 18, 17,  7, 20,  8, 17,  9, 17, 16, 15,\n",
       "       12, 13, 13, 13])"
      ]
     },
     "execution_count": 35,
     "metadata": {},
     "output_type": "execute_result"
    }
   ],
   "source": [
    "num_ihb"
   ]
  },
  {
   "cell_type": "code",
   "execution_count": 36,
   "metadata": {},
   "outputs": [
    {
     "data": {
      "text/plain": [
       "<matplotlib.collections.PathCollection at 0x1a1e683390>"
      ]
     },
     "execution_count": 36,
     "metadata": {},
     "output_type": "execute_result"
    }
   ],
   "source": [
    "# Plot percent of amino acid mutations that are clients\n",
    "ax = f4_ax4\n",
    "num_muts = np.sum(~np.isnan(resid_map.values), axis=0)\n",
    "num_dep = np.sum(dep_client_mask * 1, axis=0)\n",
    "num_ihb = np.sum(ihb_client_mask * 1, axis=0)\n",
    "num_muts = num_dep + num_ihb\n",
    "\n",
    "perc_dep = 100 * (num_dep / num_muts)\n",
    "perc_ihb = 100 * (num_ihb / num_muts)\n",
    "\n",
    "\n",
    "# Set bar width\n",
    "barWidth = 0.25\n",
    "\n",
    "# Set position of bar on X axis\n",
    "r1 = np.arange(len(y_pos[:-1]))\n",
    "r2 = [x + barWidth for x in r1]\n",
    "\n",
    "# Plot bars\n",
    "#fig, ax = plt.subplots()\n",
    "ax.barh(r1, perc_dep[:-1], height=barWidth, color=dep)\n",
    "ax.barh(r2, perc_ihb[:-1], height=barWidth, color=ihb)\n",
    "#ax.barh(y_pos[:-1], perc_ihb[:-1], left=perc_dep[:-1], color=ihb)\n",
    "#ax.axvline(0, c='k')\n",
    " \n",
    "\n",
    "# Relabel ticks\n",
    "ax.set_yticks(y_pos[:-1])\n",
    "ax.set_yticklabels(list(tick_labels)[:-1])\n",
    "ax.invert_yaxis()  # labels read top-to-bottom\n",
    "\n",
    "#ax.set_xlim([-9, 9])\n",
    "\n",
    "# Label axes\n",
    "ax.set_xlabel('Percent client variants') \n",
    "\n",
    "ax.scatter([17.5] * len(pos), pos, marker=(6, 2, 0), c='k', linewidth=1)"
   ]
  },
  {
   "cell_type": "code",
   "execution_count": 37,
   "metadata": {},
   "outputs": [
    {
     "data": {
      "image/png": "[encoded data removed]",
      "text/plain": [
       "<Figure size 1346.46x1370.08 with 2 Axes>"
      ]
     },
     "execution_count": 37,
     "metadata": {},
     "output_type": "execute_result"
    }
   ],
   "source": [
    "fig4"
   ]
  },
  {
   "cell_type": "code",
   "execution_count": 188,
   "metadata": {},
   "outputs": [],
   "source": [
    "fig4.savefig('../../../Figures/manuscript_figs/fig4_drafts/f4_v4.png')"
   ]
  },
  {
   "cell_type": "markdown",
   "metadata": {},
   "source": [
    "# Supplemental figure (aggregating by aa type)"
   ]
  },
  {
   "cell_type": "code",
   "execution_count": 154,
   "metadata": {},
   "outputs": [],
   "source": [
    "# Aggregate by amino acid type\n",
    "def agg_mask_map(mask):\n",
    "    \"\"\"\n",
    "    Aggregate map by (position x aa) by aa types: positive,\n",
    "    negative, polar, aliphatic, aromatic, misc (C, P, G).\n",
    "\n",
    "    Args:\n",
    "        mask: map (position x 21) where the second dimension is \n",
    "              ordered according to src_utils ordering\n",
    "    Returns:\n",
    "\n",
    "    \"\"\"\n",
    "    mask = mask * 1\n",
    "    positive = np.sum(mask[:, 0:3], axis=1, keepdims=True)\n",
    "    negative = np.sum(mask[:, 3:5], axis=1, keepdims=True)\n",
    "    polar = np.sum(mask[:, 7:11], axis=1, keepdims=True)\n",
    "    aliphatic = np.sum(np.concatenate(\n",
    "        (\n",
    "            mask[:, 6:7],\n",
    "            mask[:, 11:15]\n",
    "        ),\n",
    "        axis=1\n",
    "    ), axis=1, keepdims=True)\n",
    "    aromatic = np.sum(mask[:, 15:18], axis=1, keepdims=True)\n",
    "    misc = np.sum(np.concatenate(\n",
    "        (\n",
    "            mask[:, 5:6],\n",
    "            mask[:, 18:20]\n",
    "        ),\n",
    "        axis=1\n",
    "    ), axis=1, keepdims=True)\n",
    "\n",
    "    # Concatenate into aggregated array\n",
    "    agg_mask = np.concatenate(\n",
    "        (\n",
    "            positive,\n",
    "            negative,\n",
    "            polar,\n",
    "            aliphatic,\n",
    "            aromatic,\n",
    "            misc\n",
    "        ),\n",
    "        axis=1\n",
    "    )\n",
    "    \n",
    "    agg_mask = np.sum(agg_mask, axis=0)\n",
    "    return(agg_mask)"
   ]
  },
  {
   "cell_type": "code",
   "execution_count": 155,
   "metadata": {},
   "outputs": [],
   "source": [
    "# Permutation test\n",
    "from numpy.random import shuffle\n",
    "\n",
    "num_ihb = agg_mask_map(ihb_client_mask)\n",
    "num_dep = agg_mask_map(dep_client_mask)\n",
    "\n",
    "t = abs(num_ihb - num_dep)\n",
    "\n",
    "dep_copy = dep_client_mask.copy()\n",
    "ihb_copy = ihb_client_mask.copy()\n",
    "\n",
    "n_iter = 10000\n",
    "results = np.zeros((6, n_iter))\n",
    "for idx in np.arange(n_iter):\n",
    "    # Flatten both\n",
    "    dep_copy = dep_copy.flatten()\n",
    "    ihb_copy = ihb_copy.flatten()\n",
    "    \n",
    "    # Shuffle as a 1D array\n",
    "    shuffle(dep_copy)\n",
    "    shuffle(ihb_copy)\n",
    "    \n",
    "    # Reshape into the right shape\n",
    "    dep_copy = np.reshape(dep_copy, (250, 21))\n",
    "    ihb_copy = np.reshape(ihb_copy, (250, 21))\n",
    "    \n",
    "    # Aggregate by aa type\n",
    "    num_dep = agg_mask_map(dep_copy)\n",
    "    num_ihb = agg_mask_map(ihb_copy)\n",
    "    \n",
    "    #perc_dep = 100 * (num_dep / num_muts)\n",
    "    #perc_ihb = 100 * (num_ihb / num_muts)\n",
    "    \n",
    "    results[:, idx] = abs(num_ihb - num_dep)\n",
    "\n",
    "# Calculate how many are above the threshold\n",
    "n_over_t = np.zeros(6)\n",
    "\n",
    "for idx in np.arange(len(n_over_t)):\n",
    "    \n",
    "    row = results[idx, :]\n",
    "    count = sum(row > t[idx])\n",
    "    n_over_t[idx] = count\n",
    "    \n",
    "n_over_t = (1.0 * n_over_t) / (1.0 * n_iter)\n",
    "\n",
    "alpha = 0.05\n",
    "sig_aas = n_over_t < alpha\n",
    "\n",
    "pos = []\n",
    "for idx, sig in enumerate(sig_aas):\n",
    "    if sig:\n",
    "        pos.append(idx)"
   ]
  },
  {
   "cell_type": "code",
   "execution_count": 156,
   "metadata": {},
   "outputs": [
    {
     "data": {
      "text/plain": [
       "[4, 2]"
      ]
     },
     "execution_count": 156,
     "metadata": {},
     "output_type": "execute_result"
    }
   ],
   "source": [
    "# 0. Put p-values and AAs in DataFrame\n",
    "agg_dict = dict(zip(['Positive', 'Negative', 'Polar' ,'Aliphatic', 'Aromatic', 'Misc'], np.arange(6)))\n",
    "p_vals = pd.DataFrame(n_over_t, index=list(agg_dict.keys()), columns=['p-value'])\n",
    "\n",
    "# 1. Sort to ascending order\n",
    "p_vals.sort_values(by='p-value', inplace=True)\n",
    "\n",
    "# 2. Assign ranks\n",
    "p_vals['rank'] = np.arange(1, len(p_vals) + 1)\n",
    "\n",
    "# 3. Calculate critical B-H value\n",
    "fdr_rate = 0.1\n",
    "q_vals = []\n",
    "n_tests = len(p_vals)\n",
    "pos = []\n",
    "for aa in p_vals.index.tolist():\n",
    "    \n",
    "    # Grab p-value and rank\n",
    "    p_val = p_vals.loc[aa, 'p-value']\n",
    "    rank = p_vals.loc[aa, 'rank']\n",
    "    \n",
    "    # Calculate critical B-H value\n",
    "    q_val = (rank / n_tests) * fdr_rate\n",
    "    \n",
    "    # Append to list of q-values\n",
    "    q_vals.append(q_val)\n",
    "    \n",
    "    # Save AA if p-value < q-value:\n",
    "    if p_val < q_val:\n",
    "        pos.append(aa)\n",
    "\n",
    "# Append q-values to DataFrame\n",
    "p_vals['q-value'] = q_vals\n",
    "\n",
    "pos = [agg_dict[aa] for aa in pos]\n",
    "pos"
   ]
  },
  {
   "cell_type": "code",
   "execution_count": 161,
   "metadata": {},
   "outputs": [
    {
     "data": {
      "text/plain": [
       "array([499, 310, 680, 918, 433, 526])"
      ]
     },
     "execution_count": 161,
     "metadata": {},
     "output_type": "execute_result"
    }
   ],
   "source": []
  },
  {
   "cell_type": "code",
   "execution_count": 165,
   "metadata": {},
   "outputs": [
    {
     "data": {
      "text/plain": [
       "<matplotlib.collections.PathCollection at 0x1a236a9410>"
      ]
     },
     "execution_count": 165,
     "metadata": {},
     "output_type": "execute_result"
    },
    {
     "data": {
      "image/png": "[encoded data removed]",
      "text/plain": [
       "<Figure size 1800x1200 with 1 Axes>"
      ]
     },
     "metadata": {
      "needs_background": "light"
     },
     "output_type": "display_data"
    }
   ],
   "source": [
    "# Plot percent of amino acid mutations that are clients\n",
    "fig, ax = plt.subplots()\n",
    "num_muts = agg_mask_map(~np.isnan(resid_map.values))\n",
    "num_ihb = agg_mask_map(ihb_client_mask)\n",
    "num_dep = agg_mask_map(dep_client_mask)\n",
    "\n",
    "perc_dep = 100 * (num_dep / num_muts)\n",
    "perc_ihb = 100 * (num_ihb / num_muts)\n",
    "\n",
    "# Set bar width\n",
    "barWidth = 0.25\n",
    "\n",
    "# Set position of bar on X axis\n",
    "r1 = np.arange(len(list(agg_dict.keys())))\n",
    "r2 = [x + barWidth for x in r1]\n",
    "\n",
    "# Set color\n",
    "color_bars = []\n",
    "for val in diff:\n",
    "    if val > 0:\n",
    "        color_bars.append(ihb)\n",
    "    else:\n",
    "        color_bars.append(dep)\n",
    "\n",
    "# Plot bars\n",
    "#fig, ax = plt.subplots()\n",
    "ax.barh(r1, perc_dep, height=barWidth, color=dep)\n",
    "ax.barh(r2, perc_ihb, height=barWidth, color=ihb)\n",
    "#ax.barh(y_pos[:-1], perc_ihb[:-1], left=perc_dep[:-1], color=ihb)\n",
    "#ax.axvline(0, c='k')\n",
    " \n",
    "\n",
    "# Relabel ticks\n",
    "ax.set_yticks(np.arange(len(agg_dict)))\n",
    "ax.set_yticklabels(list(agg_dict.keys()))\n",
    "ax.invert_yaxis()  # labels read top-to-bottom\n",
    "\n",
    "#ax.set_xlim([-9, 9])\n",
    "\n",
    "# Label axes\n",
    "ax.set_xlabel('Percent client variants')\n",
    "ax.set_ylabel('Amino acid type')\n",
    "\n",
    "ax.scatter([15.5] * len(pos), pos, marker=(6, 2, 0), c='k', linewidth=1)"
   ]
  },
  {
   "cell_type": "code",
   "execution_count": 166,
   "metadata": {},
   "outputs": [],
   "source": [
    "fig.savefig('../../../Figures/manuscript_figs/fig4_drafts/agg_supp.png')"
   ]
  }
 ],
 "metadata": {
  "kernelspec": {
   "display_name": "Python 3",
   "language": "python",
   "name": "python3"
  },
  "language_info": {
   "codemirror_mode": {
    "name": "ipython",
    "version": 3
   },
   "file_extension": ".py",
   "mimetype": "text/x-python",
   "name": "python",
   "nbconvert_exporter": "python",
   "pygments_lexer": "ipython3",
   "version": "3.7.6"
  }
 },
 "nbformat": 4,
 "nbformat_minor": 4
}
