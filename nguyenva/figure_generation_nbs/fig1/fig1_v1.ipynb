{
 "cells": [
  {
   "cell_type": "code",
   "execution_count": 1,
   "metadata": {},
   "outputs": [],
   "source": [
    "import numpy as np"
   ]
  },
  {
   "cell_type": "markdown",
   "metadata": {},
   "source": [
    "# Define colors"
   ]
  },
  {
   "cell_type": "code",
   "execution_count": 8,
   "metadata": {},
   "outputs": [
    {
     "data": {
      "text/plain": [
       "\"# Print PyMOL selection algebra\\nprint('PyMOL selection algebra')\\nfor idx, clust in enumerate([pos_clust_1, pos_clust_2, pos_clust_3, pos_clust_4]):\\n    selection = 'select clust{}, resi '.format(idx + 1)\\n    resis = '+'.join([str(inv_map[x]) for x in clust])\\n    print(selection + resis)\\n    print('\\n')\\n    \\n# Print color definitions\\nprint('PyMOL color definitions')\\nfor idx in np.arange(4):\\n    print('set_color c{}, '.format(idx + 1), list(palette[idx * 2]))\\n    \\n# Color clusters according to colors\\nfor idx in np.arange(4):\\n    print('color c{}, clust{}'.format(idx + 1, idx + 1))\""
      ]
     },
     "execution_count": 8,
     "metadata": {},
     "output_type": "execute_result"
    }
   ],
   "source": [
    "cd_color = (20, 199, 222)\n",
    "sh2_color = (226, 106, 106)\n",
    "sh3_color = (241, 196, 15)\n",
    "\n",
    "\"\"\"# Print PyMOL selection algebra\n",
    "print('PyMOL selection algebra')\n",
    "for idx, clust in enumerate([pos_clust_1, pos_clust_2, pos_clust_3, pos_clust_4]):\n",
    "    selection = 'select clust{}, resi '.format(idx + 1)\n",
    "    resis = '+'.join([str(inv_map[x]) for x in clust])\n",
    "    print(selection + resis)\n",
    "    print('\\n')\n",
    "    \n",
    "# Print color definitions\n",
    "print('PyMOL color definitions')\n",
    "for idx in np.arange(4):\n",
    "    print('set_color c{}, '.format(idx + 1), list(palette[idx * 2]))\n",
    "    \n",
    "# Color clusters according to colors\n",
    "for idx in np.arange(4):\n",
    "    print('color c{}, clust{}'.format(idx + 1, idx + 1))\"\"\""
   ]
  },
  {
   "cell_type": "code",
   "execution_count": 11,
   "metadata": {},
   "outputs": [
    {
     "name": "stdout",
     "output_type": "stream",
     "text": [
      "color grey80, 2src_human_numbering\n",
      "select sh3, resi 84-145\n",
      "select sh2, resi 151-248\n",
      "select cd, resi 270-523\n",
      "set_color c_sh3,  [241, 196, 15]\n",
      "set_color c_sh2,  [226, 106, 106]\n",
      "set_color c_cd,  [20, 199, 222]\n",
      "color c_sh3, sh3\n",
      "color c_sh2, sh2\n",
      "color c_cd, cd\n"
     ]
    }
   ],
   "source": [
    "# Define domains\n",
    "sh3_selection = 'select sh3, resi 84-145'\n",
    "sh2_selection = 'select sh2, resi 151-248'\n",
    "cd_selection = 'select cd, resi 270-523'\n",
    "\n",
    "# 1. Color whole structure grey70\n",
    "print('color grey80, 2src_human_numbering')\n",
    "\n",
    "# 2. Select different domains\n",
    "print('{}\\n{}\\n{}'.format(sh3_selection, sh2_selection, cd_selection))\n",
    "\n",
    "# 3. Define colors\n",
    "color_name_order = [sh3_color, sh2_color, cd_color]\n",
    "domain_name_order = ['sh3', 'sh2', 'cd']\n",
    "for color, domain in zip(color_name_order, domain_name_order):\n",
    "    print('set_color c_{}, '.format(domain), list(color) )\n",
    "\n",
    "# 3. Color domains according to colors\n",
    "for domain in domain_name_order:\n",
    "    print('color c_{}, {}'.format(domain, domain))\n",
    "    \n",
    "# General stuff\n",
    "print('hide nonbonded')\n",
    "print('show car')\n",
    "print('set_transparency, 0.6')\n",
    "print('select anp, resi 4')\n",
    "view = (-0.5090726017951965, 0.15177737176418304, 0.847234845161438, -0.853549599647522, 0.037801243364810944, -0.5196391344070435, -0.11089353263378143, -0.9876919984817505, 0.11030608415603638, 0.0, 0.0, -210.9139862060547, 20.406265258789062, 33.57410430908203, 67.22940826416016, 165.6583709716797, 252.86947631835938, -20.0)\n",
    "print('cmd.set_view({})'.format(view))\n",
    "\n",
    "# I use src_pretty.pml and ray at a ratio of 120,100 to get this\n",
    "# NOTE: the ANP small molecule is something that I color by hand"
   ]
  },
  {
   "cell_type": "code",
   "execution_count": null,
   "metadata": {},
   "outputs": [],
   "source": [
    "'hide lin'\n",
    "'show car'\n",
    "'set transparency, 0.6'\n",
    "'select anp, resi 4'\n"
   ]
  }
 ],
 "metadata": {
  "kernelspec": {
   "display_name": "Python 3",
   "language": "python",
   "name": "python3"
  },
  "language_info": {
   "codemirror_mode": {
    "name": "ipython",
    "version": 3
   },
   "file_extension": ".py",
   "mimetype": "text/x-python",
   "name": "python",
   "nbconvert_exporter": "python",
   "pygments_lexer": "ipython3",
   "version": "3.7.6"
  }
 },
 "nbformat": 4,
 "nbformat_minor": 4
}
