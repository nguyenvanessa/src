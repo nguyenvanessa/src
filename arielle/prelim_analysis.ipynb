{
 "cells": [
  {
   "cell_type": "code",
   "execution_count": 1,
   "metadata": {},
   "outputs": [],
   "source": [
    "import pandas as pd"
   ]
  },
  {
   "cell_type": "markdown",
   "metadata": {},
   "source": [
    "# 1. Open h5 file"
   ]
  },
  {
   "cell_type": "code",
   "execution_count": 7,
   "metadata": {},
   "outputs": [],
   "source": [
    "my_store = pd.HDFStore('2017.07.24_Radicicol_exp.h5')\n",
    "my_store_keys = my_store.keys()\n",
    "\n",
    "variant_scores = my_store.select('/main/variants/scores')\n"
   ]
  },
  {
   "cell_type": "code",
   "execution_count": 8,
   "metadata": {},
   "outputs": [
    {
     "data": {
      "text/plain": [
       "['/main/barcodemap',\n",
       " '/main/variants/counts',\n",
       " '/main/variants/scores',\n",
       " '/main/variants/scores_pvalues_wt',\n",
       " '/main/variants/scores_shared',\n",
       " '/main/variants/scores_shared_full',\n",
       " '/main/synonymous/counts',\n",
       " '/main/synonymous/scores',\n",
       " '/main/synonymous/scores_pvalues_wt',\n",
       " '/main/synonymous/scores_shared',\n",
       " '/main/synonymous/scores_shared_full',\n",
       " '/main/barcodes/counts',\n",
       " '/main/barcodes/scores',\n",
       " '/main/barcodes/scores_shared',\n",
       " '/main/barcodes/scores_shared_full']"
      ]
     },
     "execution_count": 8,
     "metadata": {},
     "output_type": "execute_result"
    }
   ],
   "source": [
    "my_store_keys"
   ]
  },
  {
   "cell_type": "code",
   "execution_count": 9,
   "metadata": {},
   "outputs": [
    {
     "data": {
      "text/html": [
       "<div>\n",
       "<style scoped>\n",
       "    .dataframe tbody tr th:only-of-type {\n",
       "        vertical-align: middle;\n",
       "    }\n",
       "\n",
       "    .dataframe tbody tr th {\n",
       "        vertical-align: top;\n",
       "    }\n",
       "\n",
       "    .dataframe thead tr th {\n",
       "        text-align: left;\n",
       "    }\n",
       "</style>\n",
       "<table border=\"1\" class=\"dataframe\">\n",
       "  <thead>\n",
       "    <tr>\n",
       "      <th>condition</th>\n",
       "      <th colspan=\"3\" halign=\"left\">Radicicol</th>\n",
       "      <th colspan=\"3\" halign=\"left\">Zero</th>\n",
       "    </tr>\n",
       "    <tr>\n",
       "      <th>value</th>\n",
       "      <th>SE</th>\n",
       "      <th>epsilon</th>\n",
       "      <th>score</th>\n",
       "      <th>SE</th>\n",
       "      <th>epsilon</th>\n",
       "      <th>score</th>\n",
       "    </tr>\n",
       "  </thead>\n",
       "  <tbody>\n",
       "    <tr>\n",
       "      <td>_wt</td>\n",
       "      <td>0.000000e+00</td>\n",
       "      <td>0.000000e+00</td>\n",
       "      <td>0.000000</td>\n",
       "      <td>0.000000e+00</td>\n",
       "      <td>0.000000e+00</td>\n",
       "      <td>0.000000</td>\n",
       "    </tr>\n",
       "    <tr>\n",
       "      <td>c.1000G&gt;A (p.Glu334Arg), c.1001A&gt;G (p.Glu334Arg), c.1002A&gt;G (p.Glu334Arg)</td>\n",
       "      <td>1.807964e-01</td>\n",
       "      <td>3.237605e-10</td>\n",
       "      <td>-0.365712</td>\n",
       "      <td>9.916327e-44</td>\n",
       "      <td>3.703531e-85</td>\n",
       "      <td>-0.322616</td>\n",
       "    </tr>\n",
       "    <tr>\n",
       "      <td>c.1000G&gt;A (p.Glu334Arg), c.1001A&gt;G (p.Glu334Arg), c.1002A&gt;G (p.Glu334Arg), c.1415G&gt;T (p.Arg472Ile)</td>\n",
       "      <td>1.244441e-22</td>\n",
       "      <td>7.512411e-44</td>\n",
       "      <td>-0.332643</td>\n",
       "      <td>3.004250e-27</td>\n",
       "      <td>7.319823e-53</td>\n",
       "      <td>0.536071</td>\n",
       "    </tr>\n",
       "    <tr>\n",
       "      <td>c.1000G&gt;A (p.Glu334Asn), c.1002A&gt;T (p.Glu334Asn)</td>\n",
       "      <td>2.900246e-94</td>\n",
       "      <td>3.178880e-184</td>\n",
       "      <td>-0.242637</td>\n",
       "      <td>7.368371e-38</td>\n",
       "      <td>1.153677e-73</td>\n",
       "      <td>0.167256</td>\n",
       "    </tr>\n",
       "    <tr>\n",
       "      <td>c.1000G&gt;A (p.Glu334Ile), c.1001A&gt;T (p.Glu334Ile), c.1002A&gt;T (p.Glu334Ile)</td>\n",
       "      <td>3.285880e-01</td>\n",
       "      <td>1.964939e-11</td>\n",
       "      <td>-0.510346</td>\n",
       "      <td>4.748801e-01</td>\n",
       "      <td>9.459100e-14</td>\n",
       "      <td>-0.508745</td>\n",
       "    </tr>\n",
       "    <tr>\n",
       "      <td>...</td>\n",
       "      <td>...</td>\n",
       "      <td>...</td>\n",
       "      <td>...</td>\n",
       "      <td>...</td>\n",
       "      <td>...</td>\n",
       "      <td>...</td>\n",
       "    </tr>\n",
       "    <tr>\n",
       "      <td>c.998C&gt;A (p.Ser333Tyr), c.1447A&gt;T (p.Arg483Ser), c.1448G&gt;C (p.Arg483Ser), c.1449A&gt;G (p.Arg483Ser)</td>\n",
       "      <td>NaN</td>\n",
       "      <td>NaN</td>\n",
       "      <td>NaN</td>\n",
       "      <td>3.131976e-73</td>\n",
       "      <td>5.903279e-143</td>\n",
       "      <td>0.636181</td>\n",
       "    </tr>\n",
       "    <tr>\n",
       "      <td>c.998C&gt;T (p.Ser333Leu), c.999T&gt;G (p.Ser333Leu)</td>\n",
       "      <td>2.222383e-33</td>\n",
       "      <td>7.167887e-65</td>\n",
       "      <td>0.809701</td>\n",
       "      <td>1.831579e-10</td>\n",
       "      <td>3.285063e-20</td>\n",
       "      <td>1.343871</td>\n",
       "    </tr>\n",
       "    <tr>\n",
       "      <td>c.998C&gt;T (p.Ser333Phe)</td>\n",
       "      <td>1.231905e-69</td>\n",
       "      <td>6.203188e-136</td>\n",
       "      <td>0.611515</td>\n",
       "      <td>4.499810e-26</td>\n",
       "      <td>1.444821e-50</td>\n",
       "      <td>0.958583</td>\n",
       "    </tr>\n",
       "    <tr>\n",
       "      <td>c.999T&gt;C (p.=)</td>\n",
       "      <td>5.119844e-02</td>\n",
       "      <td>1.952561e-04</td>\n",
       "      <td>0.143461</td>\n",
       "      <td>1.012796e-13</td>\n",
       "      <td>1.758055e-26</td>\n",
       "      <td>0.091406</td>\n",
       "    </tr>\n",
       "    <tr>\n",
       "      <td>c.999T&gt;G (p.=)</td>\n",
       "      <td>1.367355e-68</td>\n",
       "      <td>6.843146e-134</td>\n",
       "      <td>0.029035</td>\n",
       "      <td>2.059877e-09</td>\n",
       "      <td>3.062356e-18</td>\n",
       "      <td>0.235916</td>\n",
       "    </tr>\n",
       "  </tbody>\n",
       "</table>\n",
       "<p>6494 rows × 6 columns</p>\n",
       "</div>"
      ],
      "text/plain": [
       "condition                                              Radicicol  \\\n",
       "value                                                         SE   \n",
       "_wt                                                 0.000000e+00   \n",
       "c.1000G>A (p.Glu334Arg), c.1001A>G (p.Glu334Arg...  1.807964e-01   \n",
       "c.1000G>A (p.Glu334Arg), c.1001A>G (p.Glu334Arg...  1.244441e-22   \n",
       "c.1000G>A (p.Glu334Asn), c.1002A>T (p.Glu334Asn)    2.900246e-94   \n",
       "c.1000G>A (p.Glu334Ile), c.1001A>T (p.Glu334Ile...  3.285880e-01   \n",
       "...                                                          ...   \n",
       "c.998C>A (p.Ser333Tyr), c.1447A>T (p.Arg483Ser)...           NaN   \n",
       "c.998C>T (p.Ser333Leu), c.999T>G (p.Ser333Leu)      2.222383e-33   \n",
       "c.998C>T (p.Ser333Phe)                              1.231905e-69   \n",
       "c.999T>C (p.=)                                      5.119844e-02   \n",
       "c.999T>G (p.=)                                      1.367355e-68   \n",
       "\n",
       "condition                                                                    \\\n",
       "value                                                     epsilon     score   \n",
       "_wt                                                  0.000000e+00  0.000000   \n",
       "c.1000G>A (p.Glu334Arg), c.1001A>G (p.Glu334Arg...   3.237605e-10 -0.365712   \n",
       "c.1000G>A (p.Glu334Arg), c.1001A>G (p.Glu334Arg...   7.512411e-44 -0.332643   \n",
       "c.1000G>A (p.Glu334Asn), c.1002A>T (p.Glu334Asn)    3.178880e-184 -0.242637   \n",
       "c.1000G>A (p.Glu334Ile), c.1001A>T (p.Glu334Ile...   1.964939e-11 -0.510346   \n",
       "...                                                           ...       ...   \n",
       "c.998C>A (p.Ser333Tyr), c.1447A>T (p.Arg483Ser)...            NaN       NaN   \n",
       "c.998C>T (p.Ser333Leu), c.999T>G (p.Ser333Leu)       7.167887e-65  0.809701   \n",
       "c.998C>T (p.Ser333Phe)                              6.203188e-136  0.611515   \n",
       "c.999T>C (p.=)                                       1.952561e-04  0.143461   \n",
       "c.999T>G (p.=)                                      6.843146e-134  0.029035   \n",
       "\n",
       "condition                                                   Zero  \\\n",
       "value                                                         SE   \n",
       "_wt                                                 0.000000e+00   \n",
       "c.1000G>A (p.Glu334Arg), c.1001A>G (p.Glu334Arg...  9.916327e-44   \n",
       "c.1000G>A (p.Glu334Arg), c.1001A>G (p.Glu334Arg...  3.004250e-27   \n",
       "c.1000G>A (p.Glu334Asn), c.1002A>T (p.Glu334Asn)    7.368371e-38   \n",
       "c.1000G>A (p.Glu334Ile), c.1001A>T (p.Glu334Ile...  4.748801e-01   \n",
       "...                                                          ...   \n",
       "c.998C>A (p.Ser333Tyr), c.1447A>T (p.Arg483Ser)...  3.131976e-73   \n",
       "c.998C>T (p.Ser333Leu), c.999T>G (p.Ser333Leu)      1.831579e-10   \n",
       "c.998C>T (p.Ser333Phe)                              4.499810e-26   \n",
       "c.999T>C (p.=)                                      1.012796e-13   \n",
       "c.999T>G (p.=)                                      2.059877e-09   \n",
       "\n",
       "condition                                                                    \n",
       "value                                                     epsilon     score  \n",
       "_wt                                                  0.000000e+00  0.000000  \n",
       "c.1000G>A (p.Glu334Arg), c.1001A>G (p.Glu334Arg...   3.703531e-85 -0.322616  \n",
       "c.1000G>A (p.Glu334Arg), c.1001A>G (p.Glu334Arg...   7.319823e-53  0.536071  \n",
       "c.1000G>A (p.Glu334Asn), c.1002A>T (p.Glu334Asn)     1.153677e-73  0.167256  \n",
       "c.1000G>A (p.Glu334Ile), c.1001A>T (p.Glu334Ile...   9.459100e-14 -0.508745  \n",
       "...                                                           ...       ...  \n",
       "c.998C>A (p.Ser333Tyr), c.1447A>T (p.Arg483Ser)...  5.903279e-143  0.636181  \n",
       "c.998C>T (p.Ser333Leu), c.999T>G (p.Ser333Leu)       3.285063e-20  1.343871  \n",
       "c.998C>T (p.Ser333Phe)                               1.444821e-50  0.958583  \n",
       "c.999T>C (p.=)                                       1.758055e-26  0.091406  \n",
       "c.999T>G (p.=)                                       3.062356e-18  0.235916  \n",
       "\n",
       "[6494 rows x 6 columns]"
      ]
     },
     "execution_count": 9,
     "metadata": {},
     "output_type": "execute_result"
    }
   ],
   "source": [
    "variant_scores"
   ]
  },
  {
   "cell_type": "code",
   "execution_count": 10,
   "metadata": {},
   "outputs": [
    {
     "data": {
      "text/plain": [
       "pandas.core.frame.DataFrame"
      ]
     },
     "execution_count": 10,
     "metadata": {},
     "output_type": "execute_result"
    }
   ],
   "source": [
    "type(variant_scores)"
   ]
  },
  {
   "cell_type": "code",
   "execution_count": 13,
   "metadata": {},
   "outputs": [
    {
     "data": {
      "text/plain": [
       "_wt                                                                                                   0.000000\n",
       "c.1000G>A (p.Glu334Arg), c.1001A>G (p.Glu334Arg), c.1002A>G (p.Glu334Arg)                            -0.365712\n",
       "c.1000G>A (p.Glu334Arg), c.1001A>G (p.Glu334Arg), c.1002A>G (p.Glu334Arg), c.1415G>T (p.Arg472Ile)   -0.332643\n",
       "c.1000G>A (p.Glu334Asn), c.1002A>T (p.Glu334Asn)                                                     -0.242637\n",
       "c.1000G>A (p.Glu334Ile), c.1001A>T (p.Glu334Ile), c.1002A>T (p.Glu334Ile)                            -0.510346\n",
       "                                                                                                        ...   \n",
       "c.998C>A (p.Ser333Tyr), c.1447A>T (p.Arg483Ser), c.1448G>C (p.Arg483Ser), c.1449A>G (p.Arg483Ser)          NaN\n",
       "c.998C>T (p.Ser333Leu), c.999T>G (p.Ser333Leu)                                                        0.809701\n",
       "c.998C>T (p.Ser333Phe)                                                                                0.611515\n",
       "c.999T>C (p.=)                                                                                        0.143461\n",
       "c.999T>G (p.=)                                                                                        0.029035\n",
       "Name: (Radicicol, score), Length: 6494, dtype: float64"
      ]
     },
     "execution_count": 13,
     "metadata": {},
     "output_type": "execute_result"
    }
   ],
   "source": [
    "variant_scores.loc[:, ('Radicicol', 'score')]"
   ]
  },
  {
   "cell_type": "code",
   "execution_count": 14,
   "metadata": {},
   "outputs": [
    {
     "data": {
      "text/plain": [
       "['_wt',\n",
       " 'c.1000G>A (p.Glu334Arg), c.1001A>G (p.Glu334Arg), c.1002A>G (p.Glu334Arg)',\n",
       " 'c.1000G>A (p.Glu334Arg), c.1001A>G (p.Glu334Arg), c.1002A>G (p.Glu334Arg), c.1415G>T (p.Arg472Ile)',\n",
       " 'c.1000G>A (p.Glu334Asn), c.1002A>T (p.Glu334Asn)',\n",
       " 'c.1000G>A (p.Glu334Ile), c.1001A>T (p.Glu334Ile), c.1002A>T (p.Glu334Ile)',\n",
       " 'c.1000G>A (p.Glu334Lys), c.1002A>G (p.Glu334Lys)',\n",
       " 'c.1000G>A (p.Glu334Lys), c.1321A>G (p.Arg441Asp), c.1322G>A (p.Arg441Asp), c.1323A>T (p.Arg441Asp), c.1473A>T (p.=)',\n",
       " 'c.1000G>A (p.Glu334Ser), c.1001A>G (p.Glu334Ser), c.1002A>T (p.Glu334Ser)',\n",
       " 'c.1000G>A (p.Glu334Thr), c.1001A>C (p.Glu334Thr), c.1002A>G (p.Glu334Thr)',\n",
       " 'c.1000G>A (p.Glu334Thr), c.1001A>C (p.Glu334Thr), c.1002A>T (p.Glu334Thr)']"
      ]
     },
     "execution_count": 14,
     "metadata": {},
     "output_type": "execute_result"
    }
   ],
   "source": [
    "variant_scores.index.tolist()[:10]"
   ]
  },
  {
   "cell_type": "code",
   "execution_count": null,
   "metadata": {},
   "outputs": [],
   "source": []
  }
 ],
 "metadata": {
  "kernelspec": {
   "display_name": "Python 3",
   "language": "python",
   "name": "python3"
  },
  "language_info": {
   "codemirror_mode": {
    "name": "ipython",
    "version": 3
   },
   "file_extension": ".py",
   "mimetype": "text/x-python",
   "name": "python",
   "nbconvert_exporter": "python",
   "pygments_lexer": "ipython3",
   "version": "3.7.4"
  }
 },
 "nbformat": 4,
 "nbformat_minor": 4
}
