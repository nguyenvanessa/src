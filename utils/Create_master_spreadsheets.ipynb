{
 "cells": [
  {
   "cell_type": "code",
   "execution_count": 50,
   "metadata": {},
   "outputs": [],
   "source": [
    "import numpy as np\n",
    "import pandas as pd\n",
    "import matplotlib.pyplot as plt"
   ]
  },
  {
   "cell_type": "markdown",
   "metadata": {},
   "source": [
    "# 1. Read in raw data"
   ]
  },
  {
   "cell_type": "code",
   "execution_count": 51,
   "metadata": {},
   "outputs": [
    {
     "data": {
      "text/plain": [
       "\"\\nkeys:\\n '/main/barcodemap',\\n '/main/variants/counts',\\n '/main/variants/scores',\\n '/main/variants/scores_pvalues_wt',\\n '/main/variants/scores_shared',\\n '/main/variants/scores_shared_full',\\n '/main/synonymous/counts',\\n '/main/synonymous/scores',       # Contains higher order mutants\\n '/main/synonymous/scores_pvalues_wt',\\n '/main/synonymous/scores_shared',\\n '/main/synonymous/scores_shared_full',\\n '/main/barcodes/counts',\\n '/main/barcodes/scores',\\n '/main/barcodes/scores_shared',\\n '/main/barcodes/scores_shared_full'\\n \""
      ]
     },
     "execution_count": 51,
     "metadata": {},
     "output_type": "execute_result"
    }
   ],
   "source": [
    "# Create a store of h5 file\n",
    "raw_data = pd.HDFStore('../raw_data/2017.07.24_Radicicol_exp.h5')\n",
    "\n",
    "# Collect keys of h5 file\n",
    "raw_data_keys = raw_data.keys()\n",
    "\"\"\"\n",
    "keys:\n",
    " '/main/barcodemap',\n",
    " '/main/variants/counts',\n",
    " '/main/variants/scores',\n",
    " '/main/variants/scores_pvalues_wt',\n",
    " '/main/variants/scores_shared',\n",
    " '/main/variants/scores_shared_full',\n",
    " '/main/synonymous/counts',\n",
    " '/main/synonymous/scores',       # Contains higher order mutants\n",
    " '/main/synonymous/scores_pvalues_wt',\n",
    " '/main/synonymous/scores_shared',\n",
    " '/main/synonymous/scores_shared_full',\n",
    " '/main/barcodes/counts',\n",
    " '/main/barcodes/scores',\n",
    " '/main/barcodes/scores_shared',\n",
    " '/main/barcodes/scores_shared_full'\n",
    " \"\"\""
   ]
  },
  {
   "cell_type": "markdown",
   "metadata": {},
   "source": [
    "# 2. Read in replicate averaged scores\n"
   ]
  },
  {
   "cell_type": "code",
   "execution_count": 52,
   "metadata": {},
   "outputs": [
    {
     "name": "stdout",
     "output_type": "stream",
     "text": [
      "4634\n"
     ]
    }
   ],
   "source": [
    "synon_scores = raw_data.select('/main/synonymous/scores')\n",
    "synon_scores.to_csv('synon_scores.csv')\n",
    "print(len(synon_scores))\n"
   ]
  },
  {
   "cell_type": "markdown",
   "metadata": {},
   "source": [
    "# 3. Remove higher order mutants\n"
   ]
  },
  {
   "cell_type": "code",
   "execution_count": 53,
   "metadata": {},
   "outputs": [
    {
     "name": "stdout",
     "output_type": "stream",
     "text": [
      "3545\n"
     ]
    }
   ],
   "source": [
    "idx = [',' not in name for name in synon_scores.index.tolist()] \n",
    "point_muts = synon_scores[idx]\n",
    "print(len(point_muts))"
   ]
  },
  {
   "cell_type": "code",
   "execution_count": 54,
   "metadata": {},
   "outputs": [
    {
     "data": {
      "text/html": [
       "<div>\n",
       "<style scoped>\n",
       "    .dataframe tbody tr th:only-of-type {\n",
       "        vertical-align: middle;\n",
       "    }\n",
       "\n",
       "    .dataframe tbody tr th {\n",
       "        vertical-align: top;\n",
       "    }\n",
       "\n",
       "    .dataframe thead tr th {\n",
       "        text-align: left;\n",
       "    }\n",
       "</style>\n",
       "<table border=\"1\" class=\"dataframe\">\n",
       "  <thead>\n",
       "    <tr>\n",
       "      <th>condition</th>\n",
       "      <th colspan=\"3\" halign=\"left\">Radicicol</th>\n",
       "      <th colspan=\"3\" halign=\"left\">Zero</th>\n",
       "    </tr>\n",
       "    <tr>\n",
       "      <th>value</th>\n",
       "      <th>SE</th>\n",
       "      <th>epsilon</th>\n",
       "      <th>score</th>\n",
       "      <th>SE</th>\n",
       "      <th>epsilon</th>\n",
       "      <th>score</th>\n",
       "    </tr>\n",
       "  </thead>\n",
       "  <tbody>\n",
       "    <tr>\n",
       "      <td>_sy</td>\n",
       "      <td>5.335172e-02</td>\n",
       "      <td>0.000000e+00</td>\n",
       "      <td>-0.025503</td>\n",
       "      <td>2.697229e-02</td>\n",
       "      <td>0.000000e+00</td>\n",
       "      <td>-0.035485</td>\n",
       "    </tr>\n",
       "    <tr>\n",
       "      <td>_wt</td>\n",
       "      <td>0.000000e+00</td>\n",
       "      <td>0.000000e+00</td>\n",
       "      <td>0.000000</td>\n",
       "      <td>0.000000e+00</td>\n",
       "      <td>0.000000e+00</td>\n",
       "      <td>0.000000</td>\n",
       "    </tr>\n",
       "    <tr>\n",
       "      <td>p.Ala296Arg</td>\n",
       "      <td>2.877870e-19</td>\n",
       "      <td>2.842710e-37</td>\n",
       "      <td>1.062516</td>\n",
       "      <td>4.839518e-12</td>\n",
       "      <td>3.046323e-23</td>\n",
       "      <td>1.463224</td>\n",
       "    </tr>\n",
       "    <tr>\n",
       "      <td>p.Ala296Asn</td>\n",
       "      <td>3.237620e-19</td>\n",
       "      <td>3.576656e-37</td>\n",
       "      <td>1.061823</td>\n",
       "      <td>2.866780e-01</td>\n",
       "      <td>6.887958e-06</td>\n",
       "      <td>1.947827</td>\n",
       "    </tr>\n",
       "    <tr>\n",
       "      <td>p.Ala296Asp</td>\n",
       "      <td>1.181331e-96</td>\n",
       "      <td>6.676056e-189</td>\n",
       "      <td>1.133463</td>\n",
       "      <td>5.549751e-25</td>\n",
       "      <td>1.993584e-48</td>\n",
       "      <td>1.577387</td>\n",
       "    </tr>\n",
       "  </tbody>\n",
       "</table>\n",
       "</div>"
      ],
      "text/plain": [
       "condition       Radicicol                                   Zero  \\\n",
       "value                  SE        epsilon     score            SE   \n",
       "_sy          5.335172e-02   0.000000e+00 -0.025503  2.697229e-02   \n",
       "_wt          0.000000e+00   0.000000e+00  0.000000  0.000000e+00   \n",
       "p.Ala296Arg  2.877870e-19   2.842710e-37  1.062516  4.839518e-12   \n",
       "p.Ala296Asn  3.237620e-19   3.576656e-37  1.061823  2.866780e-01   \n",
       "p.Ala296Asp  1.181331e-96  6.676056e-189  1.133463  5.549751e-25   \n",
       "\n",
       "condition                            \n",
       "value             epsilon     score  \n",
       "_sy          0.000000e+00 -0.035485  \n",
       "_wt          0.000000e+00  0.000000  \n",
       "p.Ala296Arg  3.046323e-23  1.463224  \n",
       "p.Ala296Asn  6.887958e-06  1.947827  \n",
       "p.Ala296Asp  1.993584e-48  1.577387  "
      ]
     },
     "execution_count": 54,
     "metadata": {},
     "output_type": "execute_result"
    }
   ],
   "source": [
    "point_muts.head(5)"
   ]
  },
  {
   "cell_type": "markdown",
   "metadata": {},
   "source": [
    "# 4. Multiply scores by -1 to reflect activity"
   ]
  },
  {
   "cell_type": "code",
   "execution_count": 55,
   "metadata": {},
   "outputs": [
    {
     "data": {
      "text/html": [
       "<div>\n",
       "<style scoped>\n",
       "    .dataframe tbody tr th:only-of-type {\n",
       "        vertical-align: middle;\n",
       "    }\n",
       "\n",
       "    .dataframe tbody tr th {\n",
       "        vertical-align: top;\n",
       "    }\n",
       "\n",
       "    .dataframe thead tr th {\n",
       "        text-align: left;\n",
       "    }\n",
       "</style>\n",
       "<table border=\"1\" class=\"dataframe\">\n",
       "  <thead>\n",
       "    <tr>\n",
       "      <th>condition</th>\n",
       "      <th colspan=\"3\" halign=\"left\">Radicicol</th>\n",
       "      <th colspan=\"3\" halign=\"left\">Zero</th>\n",
       "    </tr>\n",
       "    <tr>\n",
       "      <th>value</th>\n",
       "      <th>SE</th>\n",
       "      <th>epsilon</th>\n",
       "      <th>score</th>\n",
       "      <th>SE</th>\n",
       "      <th>epsilon</th>\n",
       "      <th>score</th>\n",
       "    </tr>\n",
       "  </thead>\n",
       "  <tbody>\n",
       "    <tr>\n",
       "      <td>_sy</td>\n",
       "      <td>5.335172e-02</td>\n",
       "      <td>0.000000e+00</td>\n",
       "      <td>0.025503</td>\n",
       "      <td>2.697229e-02</td>\n",
       "      <td>0.000000e+00</td>\n",
       "      <td>0.035485</td>\n",
       "    </tr>\n",
       "    <tr>\n",
       "      <td>_wt</td>\n",
       "      <td>0.000000e+00</td>\n",
       "      <td>0.000000e+00</td>\n",
       "      <td>-0.000000</td>\n",
       "      <td>0.000000e+00</td>\n",
       "      <td>0.000000e+00</td>\n",
       "      <td>-0.000000</td>\n",
       "    </tr>\n",
       "    <tr>\n",
       "      <td>p.Ala296Arg</td>\n",
       "      <td>2.877870e-19</td>\n",
       "      <td>2.842710e-37</td>\n",
       "      <td>-1.062516</td>\n",
       "      <td>4.839518e-12</td>\n",
       "      <td>3.046323e-23</td>\n",
       "      <td>-1.463224</td>\n",
       "    </tr>\n",
       "    <tr>\n",
       "      <td>p.Ala296Asn</td>\n",
       "      <td>3.237620e-19</td>\n",
       "      <td>3.576656e-37</td>\n",
       "      <td>-1.061823</td>\n",
       "      <td>2.866780e-01</td>\n",
       "      <td>6.887958e-06</td>\n",
       "      <td>-1.947827</td>\n",
       "    </tr>\n",
       "    <tr>\n",
       "      <td>p.Ala296Asp</td>\n",
       "      <td>1.181331e-96</td>\n",
       "      <td>6.676056e-189</td>\n",
       "      <td>-1.133463</td>\n",
       "      <td>5.549751e-25</td>\n",
       "      <td>1.993584e-48</td>\n",
       "      <td>-1.577387</td>\n",
       "    </tr>\n",
       "  </tbody>\n",
       "</table>\n",
       "</div>"
      ],
      "text/plain": [
       "condition       Radicicol                                   Zero  \\\n",
       "value                  SE        epsilon     score            SE   \n",
       "_sy          5.335172e-02   0.000000e+00  0.025503  2.697229e-02   \n",
       "_wt          0.000000e+00   0.000000e+00 -0.000000  0.000000e+00   \n",
       "p.Ala296Arg  2.877870e-19   2.842710e-37 -1.062516  4.839518e-12   \n",
       "p.Ala296Asn  3.237620e-19   3.576656e-37 -1.061823  2.866780e-01   \n",
       "p.Ala296Asp  1.181331e-96  6.676056e-189 -1.133463  5.549751e-25   \n",
       "\n",
       "condition                            \n",
       "value             epsilon     score  \n",
       "_sy          0.000000e+00  0.035485  \n",
       "_wt          0.000000e+00 -0.000000  \n",
       "p.Ala296Arg  3.046323e-23 -1.463224  \n",
       "p.Ala296Asn  6.887958e-06 -1.947827  \n",
       "p.Ala296Asp  1.993584e-48 -1.577387  "
      ]
     },
     "execution_count": 55,
     "metadata": {},
     "output_type": "execute_result"
    }
   ],
   "source": [
    "point_muts.loc[:, ('Radicicol', 'score')] = point_muts.loc[:, ('Radicicol', 'score')].values * -1\n",
    "point_muts.loc[:, ('Zero', 'score')] = point_muts.loc[:, ('Zero', 'score')].values * -1\n",
    "point_muts.head(5)"
   ]
  },
  {
   "cell_type": "markdown",
   "metadata": {},
   "source": [
    "# 5. Remove NaNs"
   ]
  },
  {
   "cell_type": "code",
   "execution_count": 69,
   "metadata": {},
   "outputs": [
    {
     "name": "stderr",
     "output_type": "stream",
     "text": [
      "/Users/vanessanguyen/opt/anaconda3/lib/python3.7/site-packages/ipykernel_launcher.py:1: SettingWithCopyWarning: \n",
      "A value is trying to be set on a copy of a slice from a DataFrame\n",
      "\n",
      "See the caveats in the documentation: http://pandas.pydata.org/pandas-docs/stable/user_guide/indexing.html#returning-a-view-versus-a-copy\n",
      "  \"\"\"Entry point for launching an IPython kernel.\n"
     ]
    }
   ],
   "source": [
    "point_muts.dropna(inplace=True)\n",
    "point_muts.to_csv('point_muts.csv')"
   ]
  },
  {
   "cell_type": "markdown",
   "metadata": {},
   "source": [
    "# 6. Visualize line of best fit with and without coloring by SE"
   ]
  },
  {
   "cell_type": "code",
   "execution_count": 70,
   "metadata": {},
   "outputs": [],
   "source": [
    "rad_scores = point_muts.loc[:, ('Radicicol', 'score')].values\n",
    "dmso_scores = point_muts.loc[:, ('Zero', 'score')].values"
   ]
  },
  {
   "cell_type": "code",
   "execution_count": 80,
   "metadata": {},
   "outputs": [
    {
     "data": {
      "image/png": "[encoded data removed]",
      "text/plain": [
       "<Figure size 432x288 with 1 Axes>"
      ]
     },
     "metadata": {
      "needs_background": "light"
     },
     "output_type": "display_data"
    }
   ],
   "source": [
    "coef = np.polyfit(dmso_scores, rad_scores, 1)\n",
    "poly1d_fn = np.poly1d(coef) \n",
    "\n",
    "plt.plot(dmso_scores, rad_scores, 'o', dmso_scores, poly1d_fn(dmso_scores), '--k')\n",
    "plt.xlabel('DMSO scores')\n",
    "plt.ylabel('Radicicol scores')\n",
    "plt.show()"
   ]
  },
  {
   "cell_type": "code",
   "execution_count": 138,
   "metadata": {},
   "outputs": [
    {
     "name": "stderr",
     "output_type": "stream",
     "text": [
      "/Users/vanessanguyen/opt/anaconda3/lib/python3.7/site-packages/ipykernel_launcher.py:2: FutureWarning: `item` has been deprecated and will be removed in a future version\n",
      "  \n",
      "/Users/vanessanguyen/opt/anaconda3/lib/python3.7/site-packages/ipykernel_launcher.py:3: FutureWarning: `item` has been deprecated and will be removed in a future version\n",
      "  This is separate from the ipykernel package so we can avoid doing imports until\n"
     ]
    },
    {
     "data": {
      "image/png": "[encoded data removed]",
      "text/plain": [
       "<Figure size 432x288 with 1 Axes>"
      ]
     },
     "metadata": {
      "needs_background": "light"
     },
     "output_type": "display_data"
    }
   ],
   "source": [
    "# Calculate top 5% SE in each condition\n",
    "rad_se_quantiles = point_muts.loc[:, ('Radicicol', 'SE')].quantile([0.95]).item()\n",
    "dmso_se_quantiles = point_muts.loc[:, ('Zero', 'SE')].quantile([0.95]).item()\n",
    "\n",
    "# Grab the rows that have SE greater than respective values\n",
    "rad_idx = point_muts.loc[:, ('Radicicol', 'SE')] > rad_se_quantiles\n",
    "rad_greater_df = point_muts.loc[rad_idx]\n",
    "\n",
    "dmso_idx = point_muts.loc[:, ('Zero', 'SE')] > dmso_se_quantiles\n",
    "dmso_greater_df = point_muts.loc[dmso_idx]\n",
    "\n",
    "# Plot on bivariate plot \n",
    "plt.plot(dmso_scores, rad_scores, 'o', dmso_scores, poly1d_fn(dmso_scores), '--k')\n",
    "plt.plot(rad_greater_df.loc[:, ('Zero', 'score')], rad_greater_df.loc[:, ('Radicicol', 'score')], 'ro')\n",
    "plt.plot(dmso_greater_df.loc[:, ('Zero', 'score')], dmso_greater_df.loc[:, ('Radicicol', 'score')], 'go')\n",
    "plt.show()"
   ]
  },
  {
   "cell_type": "markdown",
   "metadata": {},
   "source": [
    "### Observations: It looks like the points at the sparse areas of this graph do not have a high SE, so we can feel confident moving forward with these points. We should also use this plot as a reference for when we're looking at variants with interesting scores because these points have high error. \n",
    "### Key: red points have high error in the radicicol condition, green points have a high error in the DMSO condition"
   ]
  }
 ],
 "metadata": {
  "kernelspec": {
   "display_name": "Python 3",
   "language": "python",
   "name": "python3"
  },
  "language_info": {
   "codemirror_mode": {
    "name": "ipython",
    "version": 3
   },
   "file_extension": ".py",
   "mimetype": "text/x-python",
   "name": "python",
   "nbconvert_exporter": "python",
   "pygments_lexer": "ipython3",
   "version": "3.7.4"
  }
 },
 "nbformat": 4,
 "nbformat_minor": 4
}
